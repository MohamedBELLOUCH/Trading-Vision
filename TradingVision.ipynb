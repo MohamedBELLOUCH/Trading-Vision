{
  "nbformat": 4,
  "nbformat_minor": 0,
  "metadata": {
    "colab": {
      "provenance": []
    },
    "kernelspec": {
      "name": "python3",
      "display_name": "Python 3"
    },
    "language_info": {
      "name": "python"
    }
  },
  "cells": [
    {
      "cell_type": "markdown",
      "source": [
        "<center>\n",
        "\n",
        "# **TradingVision** : Encoding Candlesticks to GASF \n",
        "# Matrices for Pattern Classification Using CNN\n",
        "#### By: Mohamed BELLOUCH, Data INE3\n",
        "$$\n",
        "\\\\\n",
        "$$"
      ],
      "metadata": {
        "id": "rmXhOLrU_uaj"
      }
    },
    {
      "cell_type": "markdown",
      "source": [
        "I tried throughout the sections of this project to implement a trading strategy described in a paper by [Chen and Tsai](https://arxiv.org/abs/1901.05237) on the given Apple data.\n",
        "\n",
        "Their github repository is available [here](https://github.com/pecu/FinancialVision/tree/master/Encoding%20candlesticks%20as%20images%20for%20patterns%20classification%20using%20convolutional%20neural%20networks), though their code is not well orginized and still consists of several bugs."
      ],
      "metadata": {
        "id": "amnKL4KG_79E"
      }
    },
    {
      "cell_type": "markdown",
      "source": [
        "## Import data and libraries"
      ],
      "metadata": {
        "id": "MkdzuW2apBz_"
      }
    },
    {
      "cell_type": "code",
      "source": [
        "%%capture\n",
        "#@title <font size=\"3\"> Install <b>yfinance</b> and <b>mplfinance</b></font> { vertical-output: true }\n",
        "!pip install yfinance\n",
        "!pip install mplfinance;"
      ],
      "metadata": {
        "cellView": "form",
        "id": "ACVnNnQzKS84"
      },
      "execution_count": 46,
      "outputs": []
    },
    {
      "cell_type": "code",
      "source": [
        "from sklearn.linear_model import LinearRegression\n",
        "import numpy as np\n",
        "import pickle\n",
        "import multiprocessing as mp\n",
        "from tqdm import trange, tqdm\n",
        "from scipy import stats\n",
        "import pandas as pd\n",
        "import matplotlib.pyplot as plt\n",
        "import matplotlib.cm as cm\n",
        "import time\n",
        "import mplfinance as mpf\n",
        "import requests\n",
        "from IPython.display import Image"
      ],
      "metadata": {
        "id": "OBigE_O56XGj"
      },
      "execution_count": 102,
      "outputs": []
    },
    {
      "cell_type": "markdown",
      "source": [
        "To import files (such as the Apple dataset, the images of the Candlestick patterns ...) from a sharable folder in my drive :"
      ],
      "metadata": {
        "id": "5RLyo6B0pY2L"
      }
    },
    {
      "cell_type": "code",
      "source": [
        "def get_from_drive(id, destination):\n",
        "    URL = \"https://docs.google.com/uc?export=download\"\n",
        "    session = requests.Session()\n",
        "    response = session.get(URL, params = { 'id' : id }, stream = True)\n",
        "    token = None\n",
        "    for key, value in response.cookies.items():\n",
        "        if key.startswith('download_warning'):\n",
        "            token = value\n",
        "    if token:\n",
        "        params = { 'id' : id, 'confirm' : token }\n",
        "        response = session.get(URL, params = params, stream = True)\n",
        "    CHUNK_SIZE = 32768\n",
        "    with open(destination, \"wb\") as f:\n",
        "        for chunk in response.iter_content(CHUNK_SIZE):\n",
        "            if chunk:\n",
        "                f.write(chunk)\n",
        "    return destination"
      ],
      "metadata": {
        "id": "Bmhm2pbRpQoh"
      },
      "execution_count": 47,
      "outputs": []
    },
    {
      "cell_type": "markdown",
      "source": [
        "Let's import the dataset:"
      ],
      "metadata": {
        "id": "6hmVvVbFp82C"
      }
    },
    {
      "cell_type": "code",
      "source": [
        "get_from_drive('1kt0YnQyM4giPIactUrCzI2Gnv6ScLj8N', 'AAPL_Daily.csv')\n",
        "df = pd.read_csv('/content/AAPL_Daily.csv').set_index('Date')\n",
        "df.index = pd.DatetimeIndex(df.index)\n",
        "df.head()"
      ],
      "metadata": {
        "colab": {
          "base_uri": "https://localhost:8080/",
          "height": 238
        },
        "id": "5HNlbsoQpvID",
        "outputId": "2c1d8f4a-114e-40da-9c53-e176af8f41c1"
      },
      "execution_count": 48,
      "outputs": [
        {
          "output_type": "execute_result",
          "data": {
            "text/plain": [
              "                Open      High       Low     Close  Adj Close     Volume\n",
              "Date                                                                    \n",
              "2002-11-11  0.281071  0.283750  0.270000  0.270714   0.230761  152975200\n",
              "2002-11-12  0.273571  0.286429  0.272857  0.279286   0.238068  223792800\n",
              "2002-11-13  0.276786  0.286964  0.272857  0.278393   0.237307  231739200\n",
              "2002-11-14  0.283929  0.293036  0.281786  0.291071   0.248114  141713600\n",
              "2002-11-15  0.289821  0.290000  0.281429  0.284821   0.242787  160994400"
            ],
            "text/html": [
              "\n",
              "  <div id=\"df-c98e0153-fb91-46c1-9134-6d53e00c9435\">\n",
              "    <div class=\"colab-df-container\">\n",
              "      <div>\n",
              "<style scoped>\n",
              "    .dataframe tbody tr th:only-of-type {\n",
              "        vertical-align: middle;\n",
              "    }\n",
              "\n",
              "    .dataframe tbody tr th {\n",
              "        vertical-align: top;\n",
              "    }\n",
              "\n",
              "    .dataframe thead th {\n",
              "        text-align: right;\n",
              "    }\n",
              "</style>\n",
              "<table border=\"1\" class=\"dataframe\">\n",
              "  <thead>\n",
              "    <tr style=\"text-align: right;\">\n",
              "      <th></th>\n",
              "      <th>Open</th>\n",
              "      <th>High</th>\n",
              "      <th>Low</th>\n",
              "      <th>Close</th>\n",
              "      <th>Adj Close</th>\n",
              "      <th>Volume</th>\n",
              "    </tr>\n",
              "    <tr>\n",
              "      <th>Date</th>\n",
              "      <th></th>\n",
              "      <th></th>\n",
              "      <th></th>\n",
              "      <th></th>\n",
              "      <th></th>\n",
              "      <th></th>\n",
              "    </tr>\n",
              "  </thead>\n",
              "  <tbody>\n",
              "    <tr>\n",
              "      <th>2002-11-11</th>\n",
              "      <td>0.281071</td>\n",
              "      <td>0.283750</td>\n",
              "      <td>0.270000</td>\n",
              "      <td>0.270714</td>\n",
              "      <td>0.230761</td>\n",
              "      <td>152975200</td>\n",
              "    </tr>\n",
              "    <tr>\n",
              "      <th>2002-11-12</th>\n",
              "      <td>0.273571</td>\n",
              "      <td>0.286429</td>\n",
              "      <td>0.272857</td>\n",
              "      <td>0.279286</td>\n",
              "      <td>0.238068</td>\n",
              "      <td>223792800</td>\n",
              "    </tr>\n",
              "    <tr>\n",
              "      <th>2002-11-13</th>\n",
              "      <td>0.276786</td>\n",
              "      <td>0.286964</td>\n",
              "      <td>0.272857</td>\n",
              "      <td>0.278393</td>\n",
              "      <td>0.237307</td>\n",
              "      <td>231739200</td>\n",
              "    </tr>\n",
              "    <tr>\n",
              "      <th>2002-11-14</th>\n",
              "      <td>0.283929</td>\n",
              "      <td>0.293036</td>\n",
              "      <td>0.281786</td>\n",
              "      <td>0.291071</td>\n",
              "      <td>0.248114</td>\n",
              "      <td>141713600</td>\n",
              "    </tr>\n",
              "    <tr>\n",
              "      <th>2002-11-15</th>\n",
              "      <td>0.289821</td>\n",
              "      <td>0.290000</td>\n",
              "      <td>0.281429</td>\n",
              "      <td>0.284821</td>\n",
              "      <td>0.242787</td>\n",
              "      <td>160994400</td>\n",
              "    </tr>\n",
              "  </tbody>\n",
              "</table>\n",
              "</div>\n",
              "      <button class=\"colab-df-convert\" onclick=\"convertToInteractive('df-c98e0153-fb91-46c1-9134-6d53e00c9435')\"\n",
              "              title=\"Convert this dataframe to an interactive table.\"\n",
              "              style=\"display:none;\">\n",
              "        \n",
              "  <svg xmlns=\"http://www.w3.org/2000/svg\" height=\"24px\"viewBox=\"0 0 24 24\"\n",
              "       width=\"24px\">\n",
              "    <path d=\"M0 0h24v24H0V0z\" fill=\"none\"/>\n",
              "    <path d=\"M18.56 5.44l.94 2.06.94-2.06 2.06-.94-2.06-.94-.94-2.06-.94 2.06-2.06.94zm-11 1L8.5 8.5l.94-2.06 2.06-.94-2.06-.94L8.5 2.5l-.94 2.06-2.06.94zm10 10l.94 2.06.94-2.06 2.06-.94-2.06-.94-.94-2.06-.94 2.06-2.06.94z\"/><path d=\"M17.41 7.96l-1.37-1.37c-.4-.4-.92-.59-1.43-.59-.52 0-1.04.2-1.43.59L10.3 9.45l-7.72 7.72c-.78.78-.78 2.05 0 2.83L4 21.41c.39.39.9.59 1.41.59.51 0 1.02-.2 1.41-.59l7.78-7.78 2.81-2.81c.8-.78.8-2.07 0-2.86zM5.41 20L4 18.59l7.72-7.72 1.47 1.35L5.41 20z\"/>\n",
              "  </svg>\n",
              "      </button>\n",
              "      \n",
              "  <style>\n",
              "    .colab-df-container {\n",
              "      display:flex;\n",
              "      flex-wrap:wrap;\n",
              "      gap: 12px;\n",
              "    }\n",
              "\n",
              "    .colab-df-convert {\n",
              "      background-color: #E8F0FE;\n",
              "      border: none;\n",
              "      border-radius: 50%;\n",
              "      cursor: pointer;\n",
              "      display: none;\n",
              "      fill: #1967D2;\n",
              "      height: 32px;\n",
              "      padding: 0 0 0 0;\n",
              "      width: 32px;\n",
              "    }\n",
              "\n",
              "    .colab-df-convert:hover {\n",
              "      background-color: #E2EBFA;\n",
              "      box-shadow: 0px 1px 2px rgba(60, 64, 67, 0.3), 0px 1px 3px 1px rgba(60, 64, 67, 0.15);\n",
              "      fill: #174EA6;\n",
              "    }\n",
              "\n",
              "    [theme=dark] .colab-df-convert {\n",
              "      background-color: #3B4455;\n",
              "      fill: #D2E3FC;\n",
              "    }\n",
              "\n",
              "    [theme=dark] .colab-df-convert:hover {\n",
              "      background-color: #434B5C;\n",
              "      box-shadow: 0px 1px 3px 1px rgba(0, 0, 0, 0.15);\n",
              "      filter: drop-shadow(0px 1px 2px rgba(0, 0, 0, 0.3));\n",
              "      fill: #FFFFFF;\n",
              "    }\n",
              "  </style>\n",
              "\n",
              "      <script>\n",
              "        const buttonEl =\n",
              "          document.querySelector('#df-c98e0153-fb91-46c1-9134-6d53e00c9435 button.colab-df-convert');\n",
              "        buttonEl.style.display =\n",
              "          google.colab.kernel.accessAllowed ? 'block' : 'none';\n",
              "\n",
              "        async function convertToInteractive(key) {\n",
              "          const element = document.querySelector('#df-c98e0153-fb91-46c1-9134-6d53e00c9435');\n",
              "          const dataTable =\n",
              "            await google.colab.kernel.invokeFunction('convertToInteractive',\n",
              "                                                     [key], {});\n",
              "          if (!dataTable) return;\n",
              "\n",
              "          const docLinkHtml = 'Like what you see? Visit the ' +\n",
              "            '<a target=\"_blank\" href=https://colab.research.google.com/notebooks/data_table.ipynb>data table notebook</a>'\n",
              "            + ' to learn more about interactive tables.';\n",
              "          element.innerHTML = '';\n",
              "          dataTable['output_type'] = 'display_data';\n",
              "          await google.colab.output.renderOutput(dataTable, element);\n",
              "          const docLink = document.createElement('div');\n",
              "          docLink.innerHTML = docLinkHtml;\n",
              "          element.appendChild(docLink);\n",
              "        }\n",
              "      </script>\n",
              "    </div>\n",
              "  </div>\n",
              "  "
            ]
          },
          "metadata": {},
          "execution_count": 48
        }
      ]
    },
    {
      "cell_type": "markdown",
      "source": [
        "# 1. Preliminaries and objectives"
      ],
      "metadata": {
        "id": "jlMmK2hTtmta"
      }
    },
    {
      "cell_type": "markdown",
      "source": [
        "To make trading decisions, traders often make judgments based on Candlestick pattern recognition, i.e. recognizing and interpreting paterns such as *Morning Star* and *Evening Star*..., which is an essential tool for determining market conditions. Candlestick pattern recognition requires a deliberate analysis of trader expertise rather than pure numerical analysis. This recognition requires traders to make visual judgments on images."
      ],
      "metadata": {
        "id": "Bq_SqfmgAVOp"
      }
    },
    {
      "cell_type": "code",
      "source": [
        "Image(get_from_drive('19Dgo8N1tPrTrdGxtwSWTnjH9ZgAkJnq2', 'img1.png'), width=600, height=280)"
      ],
      "metadata": {
        "colab": {
          "base_uri": "https://localhost:8080/",
          "height": 297
        },
        "id": "JNxPSEkYvTSr",
        "outputId": "f60c9746-2d15-48d2-ddae-8783cb8f4f88"
      },
      "execution_count": 49,
      "outputs": [
        {
          "output_type": "execute_result",
          "data": {
            "image/png": "[encoded data removed]",
            "text/plain": [
              "<IPython.core.display.Image object>"
            ]
          },
          "metadata": {
            "image/png": {
              "width": 600,
              "height": 280
            }
          },
          "execution_count": 49
        }
      ]
    },
    {
      "cell_type": "markdown",
      "source": [
        "A Convolutional Neural Network (CNN) model might be well-suited to such a case, but instead of blindly using any machine learning model we should keep in mind that :\n",
        "\n",
        "1. Such datasets are always dynamic, and patterns in them are changing.\n",
        "2. We need to find a way to convert the time-series data into a consistent and more sophisticated matrix form."
      ],
      "metadata": {
        "id": "s4w4rgw6vPVs"
      }
    },
    {
      "cell_type": "markdown",
      "source": [
        "I have tried for example applying CNN directly to candlestick charts to extract recognized patterns in an unsupervised learning context, but this does not work well, and still represents a blind use of machine learning as I mentioned earlier.\n",
        "\n",
        "The paper described a beautiful approach to solve this problem, the authors suggested to use the Gramian Angular Field (GAF) to encode the time-series data from a one-dimensional time-series array to the two-dimensional convolutional time-series matrix, and based on this representation an CNN model will be designed to dectect the patterns.\n"
      ],
      "metadata": {
        "id": "IslQr_TJt_mV"
      }
    },
    {
      "cell_type": "code",
      "source": [
        "mc = mpf.make_marketcolors(up='white', down='black')\n",
        "exterior = mpf.make_mpf_style(marketcolors=mc)\n",
        "k_plot = mpf.plot(df.iloc[:10], style=exterior, type='candle', \n",
        "                  volume=False, figratio=(30,14), figscale=0.5, \n",
        "                  title='First 10 Apple Candlesticks',)"
      ],
      "metadata": {
        "colab": {
          "base_uri": "https://localhost:8080/",
          "height": 330
        },
        "id": "sQPErgEwQh-1",
        "outputId": "cf55c68e-859c-4ff6-88c7-a09c4dfde4f4"
      },
      "execution_count": 67,
      "outputs": [
        {
          "output_type": "display_data",
          "data": {
            "text/plain": [
              "<Figure size 616.071x287.5 with 2 Axes>"
            ],
            "image/png": "[encoded data removed]"
          },
          "metadata": {}
        }
      ]
    },
    {
      "cell_type": "markdown",
      "source": [
        "# 2. Gramian Angular Field"
      ],
      "metadata": {
        "id": "cb_wInim7y5v"
      }
    },
    {
      "cell_type": "markdown",
      "source": [
        "Wang and Oates proposed a novel method to represent time series data in a polar coordinate system and using various operations to convert these angles into symmetry matrix. Particularily, the Gramian Angular Summation Field (GASF) is a kind of GAF where each element of the GASF matrix is the cosine of the summation of angles.\n",
        "\n",
        "To implement this representation, we will follow the steps described in the paper:"
      ],
      "metadata": {
        "id": "2vtE5Y2m76Wb"
      }
    },
    {
      "cell_type": "markdown",
      "source": [
        "## 2.1. Normalization"
      ],
      "metadata": {
        "id": "cWA9ho3-9xYG"
      }
    },
    {
      "cell_type": "markdown",
      "source": [
        "Our first step to making a GAF matrix is to normalize the given time series data X into values between [0, 1]. The following equation shows the simple linear normalization method, where notation  ̃xi represents the normalized data. \n",
        "\n",
        "$$ \\tilde{x_{i}}  = \\frac{x_{i} - min(X)}{max(X) - min(X)} $$"
      ],
      "metadata": {
        "id": "mC7ENXUl-Yo7"
      }
    },
    {
      "cell_type": "markdown",
      "source": [
        "## 2.2. Polar Coordinate System representation"
      ],
      "metadata": {
        "id": "EVq86F___a8A"
      }
    },
    {
      "cell_type": "markdown",
      "source": [
        "After normalization, our second step is to represent the normalized time series data in the polar coordinate system. The following two equations show how to get the angles and radius from the rescaled time series data :\n",
        "\n",
        "$$ \\varphi_{i} = arcos(\\tilde{x_{i}}) \\qquad  s.t. : \\enspace \\tilde{x_{i}} \\in \\tilde{X} \\enspace -1 \\leq \\tilde{x_{i}} \\leq 1 $$\n",
        "and :\n",
        "$$ r = \\frac{t_{i}}{N} \\quad s.t.: t_i \\in \\mathbb{N} $$\n",
        "\n",
        "\\\\\n",
        "The following function returns this representation for a given time series (array-like) input:"
      ],
      "metadata": {
        "id": "Mb5gddMW_k8h"
      }
    },
    {
      "cell_type": "code",
      "source": [
        "def ts_to_GASF(ts, max_v, min_v):\n",
        "    if max_v == min_v:\n",
        "        gaf_m = np.zeros((len(ts), len(ts)))\n",
        "    else:\n",
        "        ts_nor = np.array((ts-min_v) / (max_v-min_v))\n",
        "        ts_nor_arc = np.arccos(ts_nor)\n",
        "        gaf_m = np.zeros((len(ts_nor), len(ts_nor)))\n",
        "        for r in range(len(ts_nor)):\n",
        "            for c in range(len(ts_nor)):\n",
        "                gaf_m[r, c] = np.cos(ts_nor_arc[r] + ts_nor_arc[c])\n",
        "    return gaf_m"
      ],
      "metadata": {
        "id": "niSYfXZlDGRW"
      },
      "execution_count": 5,
      "outputs": []
    },
    {
      "cell_type": "markdown",
      "source": [
        "## 2.3. Compute the GASF"
      ],
      "metadata": {
        "id": "O5I-n3wjCtW2"
      }
    },
    {
      "cell_type": "markdown",
      "source": [
        "Finally, we sum the angles and use the cosine function to make the GASF by the following equation:\n",
        "\n",
        "$$GASF = cos(\\varphi_{i} + \\varphi_{j}) = \\tilde{X}^T . X - {\\sqrt{I - X^2}}^T . {\\sqrt{I - X^2}}$$\n",
        "\n",
        "Hence this function, based on the previous one:"
      ],
      "metadata": {
        "id": "oYOqDi1X_qT5"
      }
    },
    {
      "cell_type": "code",
      "source": [
        "def get_GASF(arr):\n",
        "    arr = arr.copy()\n",
        "    gasf = np.zeros((arr.shape[0], arr.shape[1], arr.shape[1], arr.shape[2]))\n",
        "    for i in range(arr.shape[0]):\n",
        "        for c in range(arr.shape[2]):\n",
        "            each_channel = arr[i, :, c]\n",
        "            c_max = np.amax(each_channel)\n",
        "            c_min = np.amin(each_channel)\n",
        "            each_gasf = ts_to_GASF(each_channel, max_v=c_max, min_v=c_min)\n",
        "            gasf[i, :, :, c] = each_gasf\n",
        "    return gasf"
      ],
      "metadata": {
        "id": "2ZfGxaGp_pXz"
      },
      "execution_count": 6,
      "outputs": []
    },
    {
      "cell_type": "markdown",
      "source": [
        "# 3. Major Candlesticks Signals"
      ],
      "metadata": {
        "id": "jnqoZSA3MyJL"
      }
    },
    {
      "cell_type": "markdown",
      "source": [
        "A candlestick pattern is a movement in prices shown graphically on a candlestick chart that some believe can predict a particular market movement. The eight candlestick patterns the authors of the paper have chosen are:\n",
        "* **Morning Star**\n",
        "* **Bullish Engulfing**\n",
        "* **Hammer**\n",
        "* **Shooting Star**\n",
        "* **Evening Star**\n",
        "* **Bearish Engulfing**\n",
        "* **Hanging Man**\n",
        "* **Inverted Hammer**\n",
        "\n",
        "Explaining how to detect and interpret each pattern is beyond the scope of my project, but for more in-depth reading, I recommend the well-known book \"*The Major Candlestick Signals*\"."
      ],
      "metadata": {
        "id": "6y6m681yNRXl"
      }
    },
    {
      "cell_type": "markdown",
      "source": [
        "## 3.1. The Morning Star signal"
      ],
      "metadata": {
        "id": "9iua45KFS8Ek"
      }
    },
    {
      "cell_type": "code",
      "source": [
        "Image(get_from_drive('18mkCQOdN8AJ5pQ8DfxDj2YkHH2lZCRk9', 'morning_star.png'), width=230, height=230)"
      ],
      "metadata": {
        "colab": {
          "base_uri": "https://localhost:8080/",
          "height": 247
        },
        "id": "6IEl7VSJAuS5",
        "outputId": "9e6a4ddc-c9dc-4f64-991b-7be9450f9857"
      },
      "execution_count": 7,
      "outputs": [
        {
          "output_type": "execute_result",
          "data": {
            "image/png": "[encoded data removed]",
            "text/plain": [
              "<IPython.core.display.Image object>"
            ]
          },
          "metadata": {
            "image/png": {
              "width": 230,
              "height": 230
            }
          },
          "execution_count": 7
        }
      ]
    },
    {
      "cell_type": "markdown",
      "source": [
        "The criteria on which a Morning Star is detected are the following:\n",
        "1. The downtrend has been apparent.\n",
        "2. The body of the first candle is black, continuing the current trend. The second candle is an indecision formation.\n",
        "3. The third day shows evidence that the bulls have stepped in. That candle should close at least halfway up the black candle."
      ],
      "metadata": {
        "id": "_AHB99s89IRg"
      }
    },
    {
      "cell_type": "markdown",
      "source": [
        "The function below detects these patterns, the short_per and long_per are determination percentiles mentioned in the article."
      ],
      "metadata": {
        "id": "GoyXiBRg_FoW"
      }
    },
    {
      "cell_type": "code",
      "source": [
        "def detect_morning_star(data, q=None, multi=False, short_per=35, long_per=65):\n",
        "    print('[ Info ] : detecting morning star')\n",
        "    temp = data[(data['previous_trend'] == -1) & (data['direction'] == -1)].index\n",
        "    data['morning'] = 0\n",
        "    try:\n",
        "        for idx in tqdm(temp):\n",
        "            cond1 = (data.loc[idx, 'body_per'] >= long_per)\n",
        "            cond2 = (data.loc[idx+1, 'body_per'] <= short_per)\n",
        "            cond3 = (data.loc[idx+2, 'direction'] == 1)\n",
        "            # cond4 = max(data.loc[idx+1, 'close'], data.loc[idx+1, 'open']) <= data.loc[idx, 'close']\n",
        "            cond4 = (data.loc[idx+1, 'Close'] + data.loc[idx+1, 'Open'])/2 <= data.loc[idx, 'Close']\n",
        "            cond5 = data.loc[idx+2, 'Close'] >= ((data.loc[idx, 'Open'] + data.loc[idx, 'Close'])/2)\n",
        "            # cond6 = (data.loc[idx+2, 'body_per'] >= long_per)\n",
        "            cond7 = (data.loc[idx+2, 'Open'] >= (data.loc[idx+1, 'Open'] + data.loc[idx+1, 'Close'])/2)\n",
        "            if cond1 & cond2 & cond3 & cond4 & cond5 & cond7:\n",
        "                data.loc[idx+2, 'morning'] = 1\n",
        "    except:\n",
        "        pass\n",
        "\n",
        "    if multi:\n",
        "        q.put({'morning': np.array(data['morning'])})\n",
        "    else:\n",
        "        return data"
      ],
      "metadata": {
        "id": "PnsoQxtIUQ0-"
      },
      "execution_count": 8,
      "outputs": []
    },
    {
      "cell_type": "markdown",
      "source": [
        "## 3.2. Evening Star"
      ],
      "metadata": {
        "id": "GXOhEoowU4Wt"
      }
    },
    {
      "cell_type": "markdown",
      "source": [
        "The Evening Star pattern is a top reversal signal. It is exactly the opposite of the Morning Star signal. "
      ],
      "metadata": {
        "id": "IpXIPYKaCFm-"
      }
    },
    {
      "cell_type": "code",
      "source": [
        "Image(get_from_drive('1ZFjJvrPaEt4lm8H_1NwEb9QuGaHtnFla', 'evening_star.png'), width=230, height=230)"
      ],
      "metadata": {
        "colab": {
          "base_uri": "https://localhost:8080/",
          "height": 247
        },
        "id": "p8a7dlHPBBPu",
        "outputId": "83a7f6f0-8926-42e4-db97-5db5378334cc"
      },
      "execution_count": 9,
      "outputs": [
        {
          "output_type": "execute_result",
          "data": {
            "image/png": "[encoded data removed]",
            "text/plain": [
              "<IPython.core.display.Image object>"
            ]
          },
          "metadata": {
            "image/png": {
              "width": 230,
              "height": 230
            }
          },
          "execution_count": 9
        }
      ]
    },
    {
      "cell_type": "markdown",
      "source": [
        "The criteria on which an Evening Star is detected are the following:\n",
        "1. The uptrend has been apparent.\n",
        "2. The body of the first candle is white, continuing the current trend. The second candle is an\n",
        "indecision formation.\n",
        "3. The third day shows evidence that the bears have stepped in. That candle should close at\n",
        "least halfway down the white candle."
      ],
      "metadata": {
        "id": "xsojyywPB4Bc"
      }
    },
    {
      "cell_type": "code",
      "source": [
        "def detect_evening_star(data, q=None, multi=False, short_per=35, long_per=65):\n",
        "    print('[ Info ] : detecting evening star')\n",
        "    temp = data[(data['previous_trend'] == 1) & (data['direction'] == 1)].index\n",
        "    data['evening'] = 0\n",
        "    try:\n",
        "        for idx in tqdm(temp):\n",
        "            cond1 = (data.loc[idx, 'body_per'] >= long_per)\n",
        "            cond2 = (data.loc[idx+1, 'body_per'] <= short_per)\n",
        "            cond3 = (data.loc[idx+2, 'direction'] == -1)\n",
        "            cond4 = (data.loc[idx+1, 'Close'] + data.loc[idx+1, 'Open'])/2 >= data.loc[idx, 'Close']\n",
        "            cond5 = data.loc[idx+2, 'close'] <= ((data.loc[idx, 'Open'] + data.loc[idx, 'Close'])/2)\n",
        "            # cond6 = (data.loc[idx+2, 'body_per'] >= long_per)\n",
        "            cond7 = (data.loc[idx+2, 'Open'] <= (data.loc[idx+1, 'Open'] + data.loc[idx+1, 'Close'])/2)\n",
        "            if cond1 & cond2 & cond3 & cond4 & cond5 & cond7:\n",
        "                data.loc[idx+2, 'evening'] = 1\n",
        "    except:\n",
        "        pass\n",
        "\n",
        "    if multi:\n",
        "        q.put({'evening': np.array(data['evening'])})\n",
        "    else:\n",
        "        return data"
      ],
      "metadata": {
        "id": "tVNEAdXlTsmw"
      },
      "execution_count": 10,
      "outputs": []
    },
    {
      "cell_type": "markdown",
      "source": [
        "## 3.3. Shooting Star"
      ],
      "metadata": {
        "id": "fCtE1Fk0VG6o"
      }
    },
    {
      "cell_type": "markdown",
      "source": [
        "The Shooting Star is comprised of one candle. It is easily identified by the presence of a small\n",
        "body with a shadow at least two times greater than the body. It is found at the top of an\n",
        "uptrend. "
      ],
      "metadata": {
        "id": "Q2jitFVfCrQT"
      }
    },
    {
      "cell_type": "code",
      "source": [
        "Image(get_from_drive('1gNh5bCsJruDQsZJ92DRLH22jjhnK3A6u', 'shooting_star.png'), width=230, height=230)"
      ],
      "metadata": {
        "colab": {
          "base_uri": "https://localhost:8080/",
          "height": 247
        },
        "id": "0TQspQYNDOQD",
        "outputId": "c2a14140-9302-4772-83f7-7470bb27e8e0"
      },
      "execution_count": 11,
      "outputs": [
        {
          "output_type": "execute_result",
          "data": {
            "image/png": "[encoded data removed]",
            "text/plain": [
              "<IPython.core.display.Image object>"
            ]
          },
          "metadata": {
            "image/png": {
              "width": 230,
              "height": 230
            }
          },
          "execution_count": 11
        }
      ]
    },
    {
      "cell_type": "markdown",
      "source": [
        "1. The upper shadow should be at least two times the length of the body.\n",
        "2. The real body is at the lower end of the trading range. The color of the body is not\n",
        "important although a black body should have slightly more bearish implications.\n",
        "3. There should be no lower shadow or a very small lower shadow.\n",
        "4. The following day needs to confirm the Shooting Star signal with a black candle or better\n",
        "yet, a gap down with a lower close"
      ],
      "metadata": {
        "id": "HlrMHiwxDeR9"
      }
    },
    {
      "cell_type": "code",
      "source": [
        "def detect_shooting_star(data, q=None, multi=False, short_per=35, long_per=65):\n",
        "    print('[ Info ] : detecting shooting star')\n",
        "    data['shooting_star'] = 0\n",
        "    temp = data[(data['previous_trend'] == 1) & (data['direction'] == 1)].index\n",
        "    try:\n",
        "        for idx in tqdm(temp):\n",
        "            cond1 = (data.loc[idx, 'body_per'] >= long_per)\n",
        "            cond2 = (data.loc[idx, 'direction'] == 1)\n",
        "            cond3 = (data.loc[idx+1, 'ushadow_width'] > 2 * abs(data.loc[idx+1, 'diff']))\n",
        "            cond4 = (min(data.loc[idx+1, 'Open'], data.loc[idx+1, 'Close']) > ((data.loc[idx, 'Close'] + data.loc[idx, 'Open']) / 2))\n",
        "            cond5 = (data.loc[idx+1, 'lower_per'] <= short_per - 10)  # 25\n",
        "            cond6 = (data.loc[idx+1, 'upper_per'] >= long_per)\n",
        "            if cond1 & cond2 & cond3 & cond4 & cond5 & cond6:\n",
        "                data.loc[idx+1, 'shooting_star'] = 1\n",
        "    except:\n",
        "        pass\n",
        "\n",
        "    if multi:\n",
        "        q.put({'shooting_star': np.array(data['shooting_star'])})\n",
        "    else:\n",
        "        return data"
      ],
      "metadata": {
        "id": "FaIe7bZvTsm7"
      },
      "execution_count": 12,
      "outputs": []
    },
    {
      "cell_type": "markdown",
      "source": [
        "## 3.4. Hanging Man"
      ],
      "metadata": {
        "id": "S-S4__CLVM8I"
      }
    },
    {
      "cell_type": "markdown",
      "source": [
        "The Hanging Man is also comprised of one candle. It is easily identified by the presence of a small body with a shadow at least two times greater than the body. It is found at the top of an up trend."
      ],
      "metadata": {
        "id": "B2__ShamD4Vb"
      }
    },
    {
      "cell_type": "markdown",
      "source": [
        "1. The upper shadow should be at least two times the length of the body.\n",
        "2. The real body is at the upper end of the trading range. The color of the body is not\n",
        "important although a black body should have slightly more bearish implications.\n",
        "3. There should be no upper shadow or a very small upper shadow.\n",
        "4. The following day needs to confirm the Hanging Man signal with a black candle or better\n",
        "yet, a gap down with a lower close."
      ],
      "metadata": {
        "id": "Mvn3_u1sEJCm"
      }
    },
    {
      "cell_type": "code",
      "source": [
        "def detect_hanging_man(data, q=None, multi=False, short_per=35, long_per=65):\n",
        "    print('[ Info ] : detecting hanging man')\n",
        "    data['hanging_man'] = 0\n",
        "    temp = data[(data['previous_trend'] == 1) & (data['direction'] == 1)].index\n",
        "    try:\n",
        "        for idx in tqdm(temp):\n",
        "            cond1 = (data.loc[idx, 'lshadow_width'] > 2 * abs(data.loc[idx, 'diff']))\n",
        "            cond2 = (data.loc[idx, 'body_per'] <= short_per)\n",
        "            cond3 = (data.loc[idx, 'upper_per'] <= (short_per - 10))\n",
        "            cond4 = (data.loc[idx, 'lower_per'] >= long_per)\n",
        "            if cond1 & cond2 & cond3 & cond4:\n",
        "                data.loc[idx, 'hanging_man'] = 1\n",
        "    except:\n",
        "        pass\n",
        "\n",
        "    if multi:\n",
        "        q.put({'hanging_man': np.array(data['hanging_man'])})\n",
        "    else:\n",
        "        return data"
      ],
      "metadata": {
        "id": "LHAE3jDMTsnC"
      },
      "execution_count": 13,
      "outputs": []
    },
    {
      "cell_type": "markdown",
      "source": [
        "## 3.5. Bullish Engulfing"
      ],
      "metadata": {
        "id": "t2zV6tRRZ9gE"
      }
    },
    {
      "cell_type": "markdown",
      "source": [
        "1. The body of the second day completely engulfs the body of the first day. Shadows are not a\n",
        "consideration.\n",
        "2. Prices have been in a definable down trend, even if it has been short term.\n",
        "3. The body of the second candle is opposite color of the first candle, the first candle being the\n",
        "color of the previous trend. The exception to this rule is when the engulfed body is a doji or an\n",
        "extremely small body"
      ],
      "metadata": {
        "id": "bV-BFiXgEvz_"
      }
    },
    {
      "cell_type": "code",
      "source": [
        "def detect_bullish_engulfing(data, q=None, multi=False, short_per=35, long_per=65):\n",
        "    '''Detect bullish engulfing pattern\n",
        "    Args:\n",
        "        short_per (int): percentile for determination.\n",
        "        long_per (int): percentile for determination.\n",
        "    \n",
        "    Returns:\n",
        "        dataframe.\n",
        "    '''\n",
        "    print('[ Info ] : detecting bullish engulfing')\n",
        "    data['bullish_engulfing'] = 0\n",
        "    temp = data[(data['previous_trend'] == -1) & (data['direction'] == -1)].index\n",
        "    try:\n",
        "        for idx in tqdm(temp):\n",
        "            cond1 = (data.loc[idx, 'direction'] == -1)\n",
        "            cond2 = (data.loc[idx, 'body_per'] >= long_per)\n",
        "            cond3 = (data.loc[idx+1, 'direction'] == 1)\n",
        "            cond4 = (data.loc[idx+1, 'Close'] > data.loc[idx, 'Open'])\n",
        "            cond5 = (data.loc[idx+1, 'Open'] < data.loc[idx, 'Close'])\n",
        "            if cond1 & cond2 & cond3 & cond4 & cond5:\n",
        "                data.loc[idx+1, 'bullish_engulfing'] = 1\n",
        "    except:\n",
        "        pass\n",
        "\n",
        "    if multi:\n",
        "        q.put({'bullish_engulfing': np.array(data['bullish_engulfing'])})\n",
        "    else:\n",
        "        return data"
      ],
      "metadata": {
        "id": "monyjaJ1TsnI"
      },
      "execution_count": 14,
      "outputs": []
    },
    {
      "cell_type": "markdown",
      "source": [
        "## 3.6. Hammer"
      ],
      "metadata": {
        "id": "2TutSfp_aDiV"
      }
    },
    {
      "cell_type": "markdown",
      "source": [
        "1. The lower shadow should be at least two times the length of the body.\n",
        "2. The real body is at the upper end of the trading range. The color of the body is not\n",
        "important although a white body should have slightly more bullish implications.\n",
        "3. There should be no upper shadow or a very small upper shadow."
      ],
      "metadata": {
        "id": "MKlQIpuiFFy1"
      }
    },
    {
      "cell_type": "code",
      "source": [
        "def detect_hammer(data, q=None, multi=False, short_per=35, long_per=65):\n",
        "    print('[ Info ] : detecting hammer')\n",
        "    data['hammer'] = 0\n",
        "    temp = data[(data['previous_trend'] == -1) & (data['direction'] == -1)].index\n",
        "    try:\n",
        "        for idx in tqdm(temp):\n",
        "            cond1 = (data.loc[idx, 'lshadow_width'] > 2 * abs(data.loc[idx, 'diff']))\n",
        "            cond2 = (data.loc[idx, 'body_per'] <= short_per)\n",
        "            cond3 = (data.loc[idx, 'upper_per'] <= (short_per - 15))\n",
        "            cond4 = (data.loc[idx, 'lower_per'] >= long_per)\n",
        "            if cond1 & cond2 & cond3 & cond4:\n",
        "                data.loc[idx, 'hammer'] = 1\n",
        "    except:\n",
        "        pass\n",
        "\n",
        "    if multi:\n",
        "        q.put({'hammer': np.array(data['hammer'])})\n",
        "    else:\n",
        "        return data"
      ],
      "metadata": {
        "id": "SW7CR7NKTsnQ"
      },
      "execution_count": 15,
      "outputs": []
    },
    {
      "cell_type": "markdown",
      "source": [
        "## 3.7. Inverted Hammer\n"
      ],
      "metadata": {
        "id": "cmMvaW8vaPZG"
      }
    },
    {
      "cell_type": "markdown",
      "source": [
        "1. The upper shadow should be at least two times the length of the body.\n",
        "2. The real body is at the lower end of the trading range. The color of the body is not\n",
        "important, although a white body should have slightly more bullish implications.\n",
        "3. There should be no lower shadow, or a very small lower shadow."
      ],
      "metadata": {
        "id": "4XxvARDdFNTd"
      }
    },
    {
      "cell_type": "code",
      "source": [
        "def detect_inverted_hammer(data, q=None, multi=False, short_per=35, long_per=65):\n",
        "    print('[ Info ] : detecting inverted hammer')\n",
        "    data['inverted_hammer'] = 0\n",
        "    temp = data[(data['previous_trend'] == -1) & (data['direction'] == -1)].index\n",
        "    try:\n",
        "        for idx in tqdm(temp):\n",
        "            cond1 = (data.loc[idx, 'direction'] == -1)\n",
        "            cond2 = (data.loc[idx, 'body_per'] >= long_per)\n",
        "            cond3 = (data.loc[idx+1, 'ushadow_width'] > 2 * abs(data.loc[idx+1, 'diff']))\n",
        "            cond4 = (max(data.loc[idx+1, 'Open'], data.loc[idx+1, 'Close']) < ((data.loc[idx, 'Close'] + data.loc[idx, 'Open']) / 2))\n",
        "            cond5 = (data.loc[idx+1, 'lower_per'] <= short_per)\n",
        "            cond6 = (data.loc[idx+1, 'upper_per'] >= long_per)\n",
        "            if cond1 & cond2 & cond3 & cond4 & cond5 & cond6:\n",
        "                data.loc[idx+1, 'inverted_hammer'] = 1\n",
        "    except:\n",
        "        pass\n",
        "\n",
        "    if multi:\n",
        "        q.put({'inverted_hammer': np.array(data['inverted_hammer'])})\n",
        "    else:\n",
        "        return data "
      ],
      "metadata": {
        "id": "4OJwEignTsnU"
      },
      "execution_count": 16,
      "outputs": []
    },
    {
      "cell_type": "markdown",
      "source": [
        "## 3.8. Bullish Harami"
      ],
      "metadata": {
        "id": "OI-g5eW65UOP"
      }
    },
    {
      "cell_type": "markdown",
      "source": [
        "1. The body of the first candle is black, the body of the second candle is white.\n",
        "2. The downtrend has been evident for a good period. A long black candle occurs at the end\n",
        "of the trend.\n",
        "3. The second day opens higher than the close of the previous day and closes lower than the\n",
        "open of the prior day.\n",
        "4. Unlike the Western \"Inside Day\", just the body needs to remain in the previous day's body,\n",
        "where as the \"Inside Day\" requires both the body and the shadows to remain inside the\n",
        "previous day's body.\n",
        "5. For a reversal signal, further confirmation is required to indicate that the trend is now\n",
        "moving up."
      ],
      "metadata": {
        "id": "rX91g5s9FaVa"
      }
    },
    {
      "cell_type": "code",
      "source": [
        "def detect_bullish_harami(data, q=None, multi=False, short_per=35, long_per=65):\n",
        "    print('[ Info ] : detecting bullish harami')\n",
        "    data['bullish_harami'] = 0\n",
        "    temp = data[(data['previous_trend'] == -1) & (data['direction'] == -1)].index\n",
        "    try:\n",
        "        for idx in tqdm(temp):\n",
        "            cond1 = (data.loc[idx, 'direction'] == -1)\n",
        "            cond2 = (data.loc[idx, 'body_per'] >= long_per)\n",
        "            cond3 = (data.loc[idx+1, 'direction'] == 1)\n",
        "            cond4 = (data.loc[idx+1, 'Close'] >= ((data.loc[idx, 'Open'] + data.loc[idx, 'Close'])/2))\n",
        "            cond5 = (data.loc[idx+1, 'Close'] < data.loc[idx, 'Open'])\n",
        "            cond6 = (data.loc[idx+1, 'Open'] > data.loc[idx, 'Close'])\n",
        "            cond7 = (data.loc[idx+1, 'Open'] <= ((data.loc[idx, 'Open'] + data.loc[idx, 'Close'])/2))\n",
        "            cond8 = (data.loc[idx+1, 'body_per'] >= long_per)\n",
        "            if cond1 & cond2 & cond3 & cond4 & cond5 & cond6 & cond7 & cond8:\n",
        "                data.loc[idx+1, 'bullish_harami'] = 1\n",
        "    except:\n",
        "        pass\n",
        "\n",
        "    if multi:\n",
        "        q.put({'bullish_harami': np.array(data['bullish_harami'])})\n",
        "    else:\n",
        "        return data    "
      ],
      "metadata": {
        "id": "eRo5xnjUTsnX"
      },
      "execution_count": 17,
      "outputs": []
    },
    {
      "cell_type": "markdown",
      "source": [
        "## 3.9. Bearish Hammer"
      ],
      "metadata": {
        "id": "rcu14_Q15Yx0"
      }
    },
    {
      "cell_type": "markdown",
      "source": [
        "1. The body of the first candle is white; the body of the second candle is black.\n",
        "2. The uptrend has been apparent. A long white candle occurs at the end of the trend.\n",
        "3. The second day opens lower than the close of the previous day and closes higher than the\n",
        "open of the prior day.\n",
        "4. For a reversal signal, confirmation is needed. The next day should show weakness."
      ],
      "metadata": {
        "id": "-y88HCAhFo1U"
      }
    },
    {
      "cell_type": "code",
      "source": [
        "def detect_bearish_harami(data, q=None, multi=False, short_per=35, long_per=65):\n",
        "    print('[ Info ] : detecting bearish harami')\n",
        "    data['bearish_harami'] = 0\n",
        "    temp = data[(data['previous_trend'] == 1) & (data['direction'] == 1)].index\n",
        "    try:\n",
        "        for idx in tqdm(temp):\n",
        "            cond1 = (data.loc[idx, 'direction'] == 1)\n",
        "            cond2 = (data.loc[idx, 'body_per'] >= long_per)\n",
        "            cond3 = (data.loc[idx+1, 'direction'] == -1)\n",
        "            cond4 = (data.loc[idx+1, 'Close'] <= ((data.loc[idx, 'Open'] + data.loc[idx, 'Close'])/2))\n",
        "            cond5 = (data.loc[idx+1, 'Close'] > data.loc[idx, 'Open'])\n",
        "            cond6 = (data.loc[idx+1, 'Open'] < data.loc[idx, 'Close'])\n",
        "            cond7 = (data.loc[idx+1, 'Open'] >= ((data.loc[idx, 'Open'] + data.loc[idx, 'Close'])/2))\n",
        "            cond8 = (data.loc[idx+1, 'body_per'] >= long_per)\n",
        "            if cond1 & cond2 & cond3 & cond4 & cond5 & cond6 & cond7 & cond8:\n",
        "                data.loc[idx+1, 'bearish_harami'] = 1\n",
        "    except:\n",
        "        pass\n",
        "\n",
        "    if multi:\n",
        "        q.put({'bearish_harami': np.array(data['bearish_harami'])})\n",
        "    else:\n",
        "        return data       "
      ],
      "metadata": {
        "id": "jXp5liTFTsna"
      },
      "execution_count": 18,
      "outputs": []
    },
    {
      "cell_type": "markdown",
      "source": [
        "## 3.10. Bearish Engulfing"
      ],
      "metadata": {
        "id": "5Gx9HA3tNmfi"
      }
    },
    {
      "cell_type": "markdown",
      "source": [
        "1. The body of the second day completely engulfs the body of the first day. Shadows are not a consideration.\n",
        "2. Prices have been in a definable down trend, even if it has been short term.\n",
        "3. The body of the second candle is opposite color of the first candle, the first candle being the color of the previous trend. The exception to this rule is when the engulfed body is a Doji or an extremely small body."
      ],
      "metadata": {
        "id": "5fZ67dSvF_aF"
      }
    },
    {
      "cell_type": "code",
      "source": [
        "def detect_bearish_engulfing(data, q=None, multi=False, short_per=35, long_per=65):\n",
        "    print('[ Info ] : detecting bearish engulfing')\n",
        "    data['bearish_engulfing'] = 0\n",
        "    temp = data[(data['previous_trend'] == 1) & (data['direction'] == 1)].index\n",
        "    try:\n",
        "        for idx in tqdm(temp):\n",
        "            cond1 = (data.loc[idx, 'direction'] == 1)\n",
        "            cond2 = (data.loc[idx, 'body_per'] >= long_per)\n",
        "            cond3 = (data.loc[idx+1, 'direction'] == -1)\n",
        "            cond4 = (data.loc[idx+1, 'Close'] < data.loc[idx, 'Open'])\n",
        "            cond5 = (data.loc[idx+1, 'Open'] > data.loc[idx, 'Close'])\n",
        "            if cond1 & cond2 & cond3 & cond4 & cond5:\n",
        "                data.loc[idx+1, 'bearish_engulfing'] = 1\n",
        "    except:\n",
        "        pass\n",
        "\n",
        "    if multi:\n",
        "        q.put({'bearish_engulfing': np.array(data['bearish_engulfing'])})\n",
        "    else:\n",
        "        return data"
      ],
      "metadata": {
        "id": "-oWtD4aCNlut"
      },
      "execution_count": 19,
      "outputs": []
    },
    {
      "cell_type": "markdown",
      "source": [
        "This is the list of tasks, it contains each of these functions :"
      ],
      "metadata": {
        "id": "b44vpIS8QYVE"
      }
    },
    {
      "cell_type": "code",
      "source": [
        "TASLS_LS = [detect_evening_star, detect_morning_star, detect_shooting_star, \n",
        "                detect_hanging_man, detect_bullish_engulfing, detect_bearish_engulfing,\n",
        "                detect_hammer, detect_inverted_hammer, detect_bullish_harami,\n",
        "                detect_bearish_harami]"
      ],
      "metadata": {
        "id": "_ID0894DQl6r"
      },
      "execution_count": 20,
      "outputs": []
    },
    {
      "cell_type": "markdown",
      "source": [
        "# 4. Data processing"
      ],
      "metadata": {
        "id": "YmSD3hm77vla"
      }
    },
    {
      "cell_type": "markdown",
      "source": [
        "First, I adopted this function they propose to process the data to make it much closer to the real world, it is available in thier github repository :"
      ],
      "metadata": {
        "id": "nf34oqCuUYIQ"
      }
    },
    {
      "cell_type": "code",
      "source": [
        "def process_data(data, slope=True):\n",
        "    '''Including calculation of CLUR, Quartiles, and cus trend\n",
        "    Args:\n",
        "        data (dataframe): csv data from assets. With column names open, high, low, close.\n",
        "    Returns:\n",
        "        dataframe.\n",
        "    '''\n",
        "    if slope:\n",
        "        # process slpoe\n",
        "        data['diff'] = data['Close'] - data['Open']\n",
        "        data = data.query('diff != 0').reset_index(drop=True)\n",
        "        data['direction'] = np.sign(data['diff'])\n",
        "        data['ushadow_width'] = 0\n",
        "        data['lshadow_width'] = 0\n",
        "\n",
        "        for idx in trange(len(data)):\n",
        "            if data.loc[idx, 'direction'] == 1:\n",
        "                data.loc[idx, 'ushadow_width'] = data.loc[idx, 'High'] - data.loc[idx, 'Close']\n",
        "                data.loc[idx, 'lshadow_width'] = data.loc[idx, 'Open'] - data.loc[idx, 'Low']\n",
        "            else:\n",
        "                data.loc[idx, 'ushadow_width'] = data.loc[idx, 'High'] - data.loc[idx, 'Open']\n",
        "                data.loc[idx, 'lshadow_width'] = data.loc[idx, 'Close'] - data.loc[idx, 'Low']\n",
        "\n",
        "            if idx <= 50:\n",
        "                data.loc[idx, 'body_per'] = stats.percentileofscore(abs(data['diff']), abs(data.loc[idx,'diff']), 'rank')\n",
        "                data.loc[idx, 'upper_per'] = stats.percentileofscore(data['ushadow_width'], data.loc[idx,'ushadow_width'], 'rank')\n",
        "                data.loc[idx, 'lower_per'] = stats.percentileofscore(data['lshadow_width'], data.loc[idx,'lshadow_width'], 'rank')\n",
        "            else:\n",
        "                data.loc[idx, 'body_per'] = stats.percentileofscore(abs(data.loc[idx-50:idx, 'diff']),abs(data.loc[idx, 'diff']), 'rank')\n",
        "                data.loc[idx, 'upper_per'] = stats.percentileofscore(data.loc[idx-50:idx, 'ushadow_width'], data.loc[idx, 'ushadow_width'], 'rank')\n",
        "                data.loc[idx, 'lower_per'] = stats.percentileofscore(data.loc[idx-50:idx, 'lshadow_width'], data.loc[idx, 'lshadow_width'], 'rank')\n",
        "\n",
        "        data['slope'] = data['Close'].rolling(7).apply(get_slope, raw=False)\n",
        "        data.dropna(inplace=True)\n",
        "    else:\n",
        "        # process trend\n",
        "        data['trend'] = data['slope'].rolling(1).apply(get_trend, raw=False)\n",
        "        data['previous_trend'] = data['trend'].shift(1).fillna(0)\n",
        "    return data"
      ],
      "metadata": {
        "id": "WTslDKaP_lJ0"
      },
      "execution_count": 21,
      "outputs": []
    },
    {
      "cell_type": "markdown",
      "source": [
        "The definition of the labels bases on the rules given in The Major Candlesticks Signals, see this [book]('https://stephenbigalow.com/pdfs/MajorSignals.pdf').\n",
        "\n",
        "In the paper the downtrend and uptrend define from regression. If the slope is higher or lower enough, the trend is confirmed. The definition of slope is as follows :\n",
        "\n",
        "\n",
        "1. The slope value computes from the closing price among 7 bars.\n",
        "2. Move a bar window to get another slope value.\n",
        "3. Keep collecting positive and negative slope until 50 units, respectively.\n",
        "4. If the current slope is over the 70th percentile of the group, then it will be defined as a positive or negative\n",
        "trend.\n",
        "\n",
        "Let's now implement a function to detect the trend and another one to detect the slope:"
      ],
      "metadata": {
        "id": "bd0Zc2N_AC8p"
      }
    },
    {
      "cell_type": "code",
      "source": [
        "def get_trend(slope):\n",
        "    slope = np.array(slope)\n",
        "    thres = 7.214285714286977e-05\n",
        "    if (slope >= thres):\n",
        "        return 1\n",
        "    elif (slope <= -thres):\n",
        "        return -1\n",
        "    else:\n",
        "        return 0"
      ],
      "metadata": {
        "id": "Lbd7BMUuACjO"
      },
      "execution_count": 22,
      "outputs": []
    },
    {
      "cell_type": "code",
      "source": [
        "def get_slope(series):\n",
        "    y = series.values.reshape(-1, 1)\n",
        "    x = np.array(range(1, series.shape[0] + 1)).reshape(-1,1)\n",
        "    model = LinearRegression()\n",
        "    model.fit(x, y)\n",
        "    slope = model.coef_\n",
        "    return slope"
      ],
      "metadata": {
        "id": "Vd5tAUGm_e0_"
      },
      "execution_count": 23,
      "outputs": []
    },
    {
      "cell_type": "markdown",
      "source": [
        "# 5. Pattern Detection"
      ],
      "metadata": {
        "id": "3GvGS7y5HrDX"
      }
    },
    {
      "cell_type": "markdown",
      "source": [
        "Now we can detect all patterns, a column will be added for each pattern, if it is detected in a candlestick (row) the value will be 1 otherwise 0."
      ],
      "metadata": {
        "id": "O3yNGMqFBQ3E"
      }
    },
    {
      "cell_type": "code",
      "source": [
        "def detect_all(data, tasks_ls=None, pro_num=2):\n",
        "    data = detect_evening_star(data)\n",
        "    data = detect_morning_star(data)\n",
        "    data = detect_shooting_star(data)\n",
        "    data = detect_hanging_man(data)\n",
        "    data = detect_bullish_engulfing(data)\n",
        "    data = detect_bearish_engulfing(data)\n",
        "    data = detect_hammer(data)\n",
        "    data = detect_inverted_hammer(data)\n",
        "    data = detect_bullish_harami(data)\n",
        "    data = detect_bearish_harami(data)\n",
        "    return data"
      ],
      "metadata": {
        "id": "m3ynS8YwTsne"
      },
      "execution_count": 24,
      "outputs": []
    },
    {
      "cell_type": "markdown",
      "source": [
        "Another function to display clearly the results by counting the number of detected patterns :"
      ],
      "metadata": {
        "id": "_GX8rXx9a3lJ"
      }
    },
    {
      "cell_type": "code",
      "source": [
        "def detection_result(data):\n",
        "    print('\\n[ Info ] : number of evening star is %s' % np.sum(data['evening']))\n",
        "    print('[ Info ] : number of morning star is %s' % np.sum(data['morning']))\n",
        "    print('[ Info ] : number of shooting star is %s' % np.sum(data['shooting_star']))\n",
        "    print('[ Info ] : number of hanging man is %s' % np.sum(data['hanging_man']))\n",
        "    print('[ Info ] : number of bullish engulfing is %s' % np.sum(data['bullish_engulfing']))\n",
        "    print('[ Info ] : number of bearish engulfing is %s' % np.sum(data['bearish_engulfing']))\n",
        "    print('[ Info ] : number of hammer is %s' % np.sum(data['hammer']))\n",
        "    print('[ Info ] : number of inverted hammer is %s' % np.sum(data['inverted_hammer']))\n",
        "    print('[ Info ] : number of bullish harami is %s' % np.sum(data['bullish_harami']))\n",
        "    print('[ Info ] : number of bearish harami is %s' % np.sum(data['bearish_harami']))"
      ],
      "metadata": {
        "id": "m1nHLzEUTsnh"
      },
      "execution_count": 25,
      "outputs": []
    },
    {
      "cell_type": "markdown",
      "source": [
        "##### Now let's detect our patterns :"
      ],
      "metadata": {
        "id": "gDcoRW_xT3W-"
      }
    },
    {
      "cell_type": "code",
      "source": [
        "df.head()"
      ],
      "metadata": {
        "colab": {
          "base_uri": "https://localhost:8080/",
          "height": 238
        },
        "id": "NN6L7qVZRwxB",
        "outputId": "24db5a33-ab38-4924-f3cb-5eef8ca8a58d"
      },
      "execution_count": 170,
      "outputs": [
        {
          "output_type": "execute_result",
          "data": {
            "text/plain": [
              "                Open      High       Low     Close  Adj Close     Volume  \\\n",
              "Date                                                                       \n",
              "2002-11-11  0.281071  0.283750  0.270000  0.270714   0.230761  152975200   \n",
              "2002-11-12  0.273571  0.286429  0.272857  0.279286   0.238068  223792800   \n",
              "2002-11-13  0.276786  0.286964  0.272857  0.278393   0.237307  231739200   \n",
              "2002-11-14  0.283929  0.293036  0.281786  0.291071   0.248114  141713600   \n",
              "2002-11-15  0.289821  0.290000  0.281429  0.284821   0.242787  160994400   \n",
              "\n",
              "                diff  \n",
              "Date                  \n",
              "2002-11-11 -0.010357  \n",
              "2002-11-12  0.005715  \n",
              "2002-11-13  0.001607  \n",
              "2002-11-14  0.007142  \n",
              "2002-11-15 -0.005000  "
            ],
            "text/html": [
              "\n",
              "  <div id=\"df-586d5daf-e7c1-4357-aa54-526be2cb0401\">\n",
              "    <div class=\"colab-df-container\">\n",
              "      <div>\n",
              "<style scoped>\n",
              "    .dataframe tbody tr th:only-of-type {\n",
              "        vertical-align: middle;\n",
              "    }\n",
              "\n",
              "    .dataframe tbody tr th {\n",
              "        vertical-align: top;\n",
              "    }\n",
              "\n",
              "    .dataframe thead th {\n",
              "        text-align: right;\n",
              "    }\n",
              "</style>\n",
              "<table border=\"1\" class=\"dataframe\">\n",
              "  <thead>\n",
              "    <tr style=\"text-align: right;\">\n",
              "      <th></th>\n",
              "      <th>Open</th>\n",
              "      <th>High</th>\n",
              "      <th>Low</th>\n",
              "      <th>Close</th>\n",
              "      <th>Adj Close</th>\n",
              "      <th>Volume</th>\n",
              "      <th>diff</th>\n",
              "    </tr>\n",
              "    <tr>\n",
              "      <th>Date</th>\n",
              "      <th></th>\n",
              "      <th></th>\n",
              "      <th></th>\n",
              "      <th></th>\n",
              "      <th></th>\n",
              "      <th></th>\n",
              "      <th></th>\n",
              "    </tr>\n",
              "  </thead>\n",
              "  <tbody>\n",
              "    <tr>\n",
              "      <th>2002-11-11</th>\n",
              "      <td>0.281071</td>\n",
              "      <td>0.283750</td>\n",
              "      <td>0.270000</td>\n",
              "      <td>0.270714</td>\n",
              "      <td>0.230761</td>\n",
              "      <td>152975200</td>\n",
              "      <td>-0.010357</td>\n",
              "    </tr>\n",
              "    <tr>\n",
              "      <th>2002-11-12</th>\n",
              "      <td>0.273571</td>\n",
              "      <td>0.286429</td>\n",
              "      <td>0.272857</td>\n",
              "      <td>0.279286</td>\n",
              "      <td>0.238068</td>\n",
              "      <td>223792800</td>\n",
              "      <td>0.005715</td>\n",
              "    </tr>\n",
              "    <tr>\n",
              "      <th>2002-11-13</th>\n",
              "      <td>0.276786</td>\n",
              "      <td>0.286964</td>\n",
              "      <td>0.272857</td>\n",
              "      <td>0.278393</td>\n",
              "      <td>0.237307</td>\n",
              "      <td>231739200</td>\n",
              "      <td>0.001607</td>\n",
              "    </tr>\n",
              "    <tr>\n",
              "      <th>2002-11-14</th>\n",
              "      <td>0.283929</td>\n",
              "      <td>0.293036</td>\n",
              "      <td>0.281786</td>\n",
              "      <td>0.291071</td>\n",
              "      <td>0.248114</td>\n",
              "      <td>141713600</td>\n",
              "      <td>0.007142</td>\n",
              "    </tr>\n",
              "    <tr>\n",
              "      <th>2002-11-15</th>\n",
              "      <td>0.289821</td>\n",
              "      <td>0.290000</td>\n",
              "      <td>0.281429</td>\n",
              "      <td>0.284821</td>\n",
              "      <td>0.242787</td>\n",
              "      <td>160994400</td>\n",
              "      <td>-0.005000</td>\n",
              "    </tr>\n",
              "  </tbody>\n",
              "</table>\n",
              "</div>\n",
              "      <button class=\"colab-df-convert\" onclick=\"convertToInteractive('df-586d5daf-e7c1-4357-aa54-526be2cb0401')\"\n",
              "              title=\"Convert this dataframe to an interactive table.\"\n",
              "              style=\"display:none;\">\n",
              "        \n",
              "  <svg xmlns=\"http://www.w3.org/2000/svg\" height=\"24px\"viewBox=\"0 0 24 24\"\n",
              "       width=\"24px\">\n",
              "    <path d=\"M0 0h24v24H0V0z\" fill=\"none\"/>\n",
              "    <path d=\"M18.56 5.44l.94 2.06.94-2.06 2.06-.94-2.06-.94-.94-2.06-.94 2.06-2.06.94zm-11 1L8.5 8.5l.94-2.06 2.06-.94-2.06-.94L8.5 2.5l-.94 2.06-2.06.94zm10 10l.94 2.06.94-2.06 2.06-.94-2.06-.94-.94-2.06-.94 2.06-2.06.94z\"/><path d=\"M17.41 7.96l-1.37-1.37c-.4-.4-.92-.59-1.43-.59-.52 0-1.04.2-1.43.59L10.3 9.45l-7.72 7.72c-.78.78-.78 2.05 0 2.83L4 21.41c.39.39.9.59 1.41.59.51 0 1.02-.2 1.41-.59l7.78-7.78 2.81-2.81c.8-.78.8-2.07 0-2.86zM5.41 20L4 18.59l7.72-7.72 1.47 1.35L5.41 20z\"/>\n",
              "  </svg>\n",
              "      </button>\n",
              "      \n",
              "  <style>\n",
              "    .colab-df-container {\n",
              "      display:flex;\n",
              "      flex-wrap:wrap;\n",
              "      gap: 12px;\n",
              "    }\n",
              "\n",
              "    .colab-df-convert {\n",
              "      background-color: #E8F0FE;\n",
              "      border: none;\n",
              "      border-radius: 50%;\n",
              "      cursor: pointer;\n",
              "      display: none;\n",
              "      fill: #1967D2;\n",
              "      height: 32px;\n",
              "      padding: 0 0 0 0;\n",
              "      width: 32px;\n",
              "    }\n",
              "\n",
              "    .colab-df-convert:hover {\n",
              "      background-color: #E2EBFA;\n",
              "      box-shadow: 0px 1px 2px rgba(60, 64, 67, 0.3), 0px 1px 3px 1px rgba(60, 64, 67, 0.15);\n",
              "      fill: #174EA6;\n",
              "    }\n",
              "\n",
              "    [theme=dark] .colab-df-convert {\n",
              "      background-color: #3B4455;\n",
              "      fill: #D2E3FC;\n",
              "    }\n",
              "\n",
              "    [theme=dark] .colab-df-convert:hover {\n",
              "      background-color: #434B5C;\n",
              "      box-shadow: 0px 1px 3px 1px rgba(0, 0, 0, 0.15);\n",
              "      filter: drop-shadow(0px 1px 2px rgba(0, 0, 0, 0.3));\n",
              "      fill: #FFFFFF;\n",
              "    }\n",
              "  </style>\n",
              "\n",
              "      <script>\n",
              "        const buttonEl =\n",
              "          document.querySelector('#df-586d5daf-e7c1-4357-aa54-526be2cb0401 button.colab-df-convert');\n",
              "        buttonEl.style.display =\n",
              "          google.colab.kernel.accessAllowed ? 'block' : 'none';\n",
              "\n",
              "        async function convertToInteractive(key) {\n",
              "          const element = document.querySelector('#df-586d5daf-e7c1-4357-aa54-526be2cb0401');\n",
              "          const dataTable =\n",
              "            await google.colab.kernel.invokeFunction('convertToInteractive',\n",
              "                                                     [key], {});\n",
              "          if (!dataTable) return;\n",
              "\n",
              "          const docLinkHtml = 'Like what you see? Visit the ' +\n",
              "            '<a target=\"_blank\" href=https://colab.research.google.com/notebooks/data_table.ipynb>data table notebook</a>'\n",
              "            + ' to learn more about interactive tables.';\n",
              "          element.innerHTML = '';\n",
              "          dataTable['output_type'] = 'display_data';\n",
              "          await google.colab.output.renderOutput(dataTable, element);\n",
              "          const docLink = document.createElement('div');\n",
              "          docLink.innerHTML = docLinkHtml;\n",
              "          element.appendChild(docLink);\n",
              "        }\n",
              "      </script>\n",
              "    </div>\n",
              "  </div>\n",
              "  "
            ]
          },
          "metadata": {},
          "execution_count": 170
        }
      ]
    },
    {
      "cell_type": "code",
      "source": [
        "# calculate features & slope\n",
        "data = process_data(df, slope=True)"
      ],
      "metadata": {
        "colab": {
          "base_uri": "https://localhost:8080/"
        },
        "id": "lNpc9r2_Rquu",
        "outputId": "fbf85297-48d2-435e-92b8-ad68acffe67b"
      },
      "execution_count": 171,
      "outputs": [
        {
          "output_type": "stream",
          "name": "stderr",
          "text": [
            "100%|██████████| 5023/5023 [00:10<00:00, 492.89it/s]\n"
          ]
        }
      ]
    },
    {
      "cell_type": "code",
      "source": [
        "# calculate trend (depend on slopes)\n",
        "data = process_data(data, slope=False)"
      ],
      "metadata": {
        "id": "nO4cpZeaTLpf"
      },
      "execution_count": 172,
      "outputs": []
    },
    {
      "cell_type": "code",
      "source": [
        "# save current data\n",
        "# detect with customized rules\n",
        "data = detect_all(data, TASLS_LS, pro_num=4)\n",
        "data.to_csv('patterns.csv', index=False)\n",
        "detection_result(data)"
      ],
      "metadata": {
        "colab": {
          "base_uri": "https://localhost:8080/"
        },
        "id": "JQJVGRfETq2W",
        "outputId": "6350aba4-987c-4aaf-e36a-ec3cf767eb07"
      },
      "execution_count": 173,
      "outputs": [
        {
          "output_type": "stream",
          "name": "stdout",
          "text": [
            "[ Info ] : detecting evening star\n"
          ]
        },
        {
          "output_type": "stream",
          "name": "stderr",
          "text": [
            "  0%|          | 0/1514 [00:00<?, ?it/s]\n"
          ]
        },
        {
          "output_type": "stream",
          "name": "stdout",
          "text": [
            "[ Info ] : detecting morning star\n"
          ]
        },
        {
          "output_type": "stream",
          "name": "stderr",
          "text": [
            "100%|█████████▉| 1037/1038 [00:00<00:00, 7332.93it/s]\n"
          ]
        },
        {
          "output_type": "stream",
          "name": "stdout",
          "text": [
            "[ Info ] : detecting shooting star\n"
          ]
        },
        {
          "output_type": "stream",
          "name": "stderr",
          "text": [
            "100%|██████████| 1514/1514 [00:00<00:00, 9627.37it/s]\n"
          ]
        },
        {
          "output_type": "stream",
          "name": "stdout",
          "text": [
            "[ Info ] : detecting hanging man\n"
          ]
        },
        {
          "output_type": "stream",
          "name": "stderr",
          "text": [
            "100%|██████████| 1514/1514 [00:00<00:00, 15980.43it/s]\n"
          ]
        },
        {
          "output_type": "stream",
          "name": "stdout",
          "text": [
            "[ Info ] : detecting bullish engulfing\n"
          ]
        },
        {
          "output_type": "stream",
          "name": "stderr",
          "text": [
            "100%|█████████▉| 1037/1038 [00:00<00:00, 13163.61it/s]\n"
          ]
        },
        {
          "output_type": "stream",
          "name": "stdout",
          "text": [
            "[ Info ] : detecting bearish engulfing\n"
          ]
        },
        {
          "output_type": "stream",
          "name": "stderr",
          "text": [
            "100%|██████████| 1514/1514 [00:00<00:00, 11884.22it/s]\n"
          ]
        },
        {
          "output_type": "stream",
          "name": "stdout",
          "text": [
            "[ Info ] : detecting hammer\n"
          ]
        },
        {
          "output_type": "stream",
          "name": "stderr",
          "text": [
            "100%|██████████| 1038/1038 [00:00<00:00, 9399.98it/s]\n"
          ]
        },
        {
          "output_type": "stream",
          "name": "stdout",
          "text": [
            "[ Info ] : detecting inverted hammer\n"
          ]
        },
        {
          "output_type": "stream",
          "name": "stderr",
          "text": [
            "100%|█████████▉| 1037/1038 [00:00<00:00, 4706.66it/s]\n"
          ]
        },
        {
          "output_type": "stream",
          "name": "stdout",
          "text": [
            "[ Info ] : detecting bullish harami\n"
          ]
        },
        {
          "output_type": "stream",
          "name": "stderr",
          "text": [
            "100%|█████████▉| 1037/1038 [00:00<00:00, 3270.54it/s]\n"
          ]
        },
        {
          "output_type": "stream",
          "name": "stdout",
          "text": [
            "[ Info ] : detecting bearish harami\n"
          ]
        },
        {
          "output_type": "stream",
          "name": "stderr",
          "text": [
            "100%|██████████| 1514/1514 [00:00<00:00, 3887.35it/s]\n"
          ]
        },
        {
          "output_type": "stream",
          "name": "stdout",
          "text": [
            "\n",
            "[ Info ] : number of evening star is 0\n",
            "[ Info ] : number of morning star is 5\n",
            "[ Info ] : number of shooting star is 10\n",
            "[ Info ] : number of hanging man is 28\n",
            "[ Info ] : number of bullish engulfing is 10\n",
            "[ Info ] : number of bearish engulfing is 16\n",
            "[ Info ] : number of hammer is 19\n",
            "[ Info ] : number of inverted hammer is 11\n",
            "[ Info ] : number of bullish harami is 17\n",
            "[ Info ] : number of bearish harami is 4\n"
          ]
        }
      ]
    },
    {
      "cell_type": "code",
      "source": [
        "data.head()"
      ],
      "metadata": {
        "colab": {
          "base_uri": "https://localhost:8080/",
          "height": 317
        },
        "id": "1QoeqzGPbxOG",
        "outputId": "a9fb37ae-429e-451d-c4dc-b3d82fbcc092"
      },
      "execution_count": 174,
      "outputs": [
        {
          "output_type": "execute_result",
          "data": {
            "text/plain": [
              "        Open      High       Low     Close  Adj Close     Volume      diff  \\\n",
              "6   0.277679  0.281250  0.268036  0.272679   0.232436  210952000 -0.005000   \n",
              "7   0.273214  0.280357  0.272321  0.277321   0.236393  208740000  0.004107   \n",
              "8   0.283929  0.293571  0.281250  0.291964   0.248875  418482400  0.008035   \n",
              "9   0.287321  0.291071  0.283929  0.285893   0.243700  227858400 -0.001428   \n",
              "10  0.286250  0.288214  0.280536  0.285179   0.243092  199427200 -0.001071   \n",
              "\n",
              "    direction  ushadow_width  lshadow_width  ...  evening  morning  \\\n",
              "6        -1.0       0.003571       0.004643  ...        0        0   \n",
              "7         1.0       0.003036       0.000893  ...        0        0   \n",
              "8         1.0       0.001607       0.002679  ...        0        0   \n",
              "9        -1.0       0.003750       0.001964  ...        0        0   \n",
              "10       -1.0       0.001964       0.004643  ...        0        0   \n",
              "\n",
              "    shooting_star  hanging_man  bullish_engulfing  bearish_engulfing  hammer  \\\n",
              "6               0            0                  0                  0       0   \n",
              "7               0            0                  0                  0       0   \n",
              "8               0            0                  0                  0       0   \n",
              "9               0            0                  0                  0       0   \n",
              "10              0            0                  0                  0       0   \n",
              "\n",
              "    inverted_hammer  bullish_harami  bearish_harami  \n",
              "6                 0               0               0  \n",
              "7                 0               0               0  \n",
              "8                 0               0               0  \n",
              "9                 0               0               0  \n",
              "10                0               0               0  \n",
              "\n",
              "[5 rows x 26 columns]"
            ],
            "text/html": [
              "\n",
              "  <div id=\"df-12c5f1a2-96e5-4086-97b9-96ca0c8ccff1\">\n",
              "    <div class=\"colab-df-container\">\n",
              "      <div>\n",
              "<style scoped>\n",
              "    .dataframe tbody tr th:only-of-type {\n",
              "        vertical-align: middle;\n",
              "    }\n",
              "\n",
              "    .dataframe tbody tr th {\n",
              "        vertical-align: top;\n",
              "    }\n",
              "\n",
              "    .dataframe thead th {\n",
              "        text-align: right;\n",
              "    }\n",
              "</style>\n",
              "<table border=\"1\" class=\"dataframe\">\n",
              "  <thead>\n",
              "    <tr style=\"text-align: right;\">\n",
              "      <th></th>\n",
              "      <th>Open</th>\n",
              "      <th>High</th>\n",
              "      <th>Low</th>\n",
              "      <th>Close</th>\n",
              "      <th>Adj Close</th>\n",
              "      <th>Volume</th>\n",
              "      <th>diff</th>\n",
              "      <th>direction</th>\n",
              "      <th>ushadow_width</th>\n",
              "      <th>lshadow_width</th>\n",
              "      <th>...</th>\n",
              "      <th>evening</th>\n",
              "      <th>morning</th>\n",
              "      <th>shooting_star</th>\n",
              "      <th>hanging_man</th>\n",
              "      <th>bullish_engulfing</th>\n",
              "      <th>bearish_engulfing</th>\n",
              "      <th>hammer</th>\n",
              "      <th>inverted_hammer</th>\n",
              "      <th>bullish_harami</th>\n",
              "      <th>bearish_harami</th>\n",
              "    </tr>\n",
              "  </thead>\n",
              "  <tbody>\n",
              "    <tr>\n",
              "      <th>6</th>\n",
              "      <td>0.277679</td>\n",
              "      <td>0.281250</td>\n",
              "      <td>0.268036</td>\n",
              "      <td>0.272679</td>\n",
              "      <td>0.232436</td>\n",
              "      <td>210952000</td>\n",
              "      <td>-0.005000</td>\n",
              "      <td>-1.0</td>\n",
              "      <td>0.003571</td>\n",
              "      <td>0.004643</td>\n",
              "      <td>...</td>\n",
              "      <td>0</td>\n",
              "      <td>0</td>\n",
              "      <td>0</td>\n",
              "      <td>0</td>\n",
              "      <td>0</td>\n",
              "      <td>0</td>\n",
              "      <td>0</td>\n",
              "      <td>0</td>\n",
              "      <td>0</td>\n",
              "      <td>0</td>\n",
              "    </tr>\n",
              "    <tr>\n",
              "      <th>7</th>\n",
              "      <td>0.273214</td>\n",
              "      <td>0.280357</td>\n",
              "      <td>0.272321</td>\n",
              "      <td>0.277321</td>\n",
              "      <td>0.236393</td>\n",
              "      <td>208740000</td>\n",
              "      <td>0.004107</td>\n",
              "      <td>1.0</td>\n",
              "      <td>0.003036</td>\n",
              "      <td>0.000893</td>\n",
              "      <td>...</td>\n",
              "      <td>0</td>\n",
              "      <td>0</td>\n",
              "      <td>0</td>\n",
              "      <td>0</td>\n",
              "      <td>0</td>\n",
              "      <td>0</td>\n",
              "      <td>0</td>\n",
              "      <td>0</td>\n",
              "      <td>0</td>\n",
              "      <td>0</td>\n",
              "    </tr>\n",
              "    <tr>\n",
              "      <th>8</th>\n",
              "      <td>0.283929</td>\n",
              "      <td>0.293571</td>\n",
              "      <td>0.281250</td>\n",
              "      <td>0.291964</td>\n",
              "      <td>0.248875</td>\n",
              "      <td>418482400</td>\n",
              "      <td>0.008035</td>\n",
              "      <td>1.0</td>\n",
              "      <td>0.001607</td>\n",
              "      <td>0.002679</td>\n",
              "      <td>...</td>\n",
              "      <td>0</td>\n",
              "      <td>0</td>\n",
              "      <td>0</td>\n",
              "      <td>0</td>\n",
              "      <td>0</td>\n",
              "      <td>0</td>\n",
              "      <td>0</td>\n",
              "      <td>0</td>\n",
              "      <td>0</td>\n",
              "      <td>0</td>\n",
              "    </tr>\n",
              "    <tr>\n",
              "      <th>9</th>\n",
              "      <td>0.287321</td>\n",
              "      <td>0.291071</td>\n",
              "      <td>0.283929</td>\n",
              "      <td>0.285893</td>\n",
              "      <td>0.243700</td>\n",
              "      <td>227858400</td>\n",
              "      <td>-0.001428</td>\n",
              "      <td>-1.0</td>\n",
              "      <td>0.003750</td>\n",
              "      <td>0.001964</td>\n",
              "      <td>...</td>\n",
              "      <td>0</td>\n",
              "      <td>0</td>\n",
              "      <td>0</td>\n",
              "      <td>0</td>\n",
              "      <td>0</td>\n",
              "      <td>0</td>\n",
              "      <td>0</td>\n",
              "      <td>0</td>\n",
              "      <td>0</td>\n",
              "      <td>0</td>\n",
              "    </tr>\n",
              "    <tr>\n",
              "      <th>10</th>\n",
              "      <td>0.286250</td>\n",
              "      <td>0.288214</td>\n",
              "      <td>0.280536</td>\n",
              "      <td>0.285179</td>\n",
              "      <td>0.243092</td>\n",
              "      <td>199427200</td>\n",
              "      <td>-0.001071</td>\n",
              "      <td>-1.0</td>\n",
              "      <td>0.001964</td>\n",
              "      <td>0.004643</td>\n",
              "      <td>...</td>\n",
              "      <td>0</td>\n",
              "      <td>0</td>\n",
              "      <td>0</td>\n",
              "      <td>0</td>\n",
              "      <td>0</td>\n",
              "      <td>0</td>\n",
              "      <td>0</td>\n",
              "      <td>0</td>\n",
              "      <td>0</td>\n",
              "      <td>0</td>\n",
              "    </tr>\n",
              "  </tbody>\n",
              "</table>\n",
              "<p>5 rows × 26 columns</p>\n",
              "</div>\n",
              "      <button class=\"colab-df-convert\" onclick=\"convertToInteractive('df-12c5f1a2-96e5-4086-97b9-96ca0c8ccff1')\"\n",
              "              title=\"Convert this dataframe to an interactive table.\"\n",
              "              style=\"display:none;\">\n",
              "        \n",
              "  <svg xmlns=\"http://www.w3.org/2000/svg\" height=\"24px\"viewBox=\"0 0 24 24\"\n",
              "       width=\"24px\">\n",
              "    <path d=\"M0 0h24v24H0V0z\" fill=\"none\"/>\n",
              "    <path d=\"M18.56 5.44l.94 2.06.94-2.06 2.06-.94-2.06-.94-.94-2.06-.94 2.06-2.06.94zm-11 1L8.5 8.5l.94-2.06 2.06-.94-2.06-.94L8.5 2.5l-.94 2.06-2.06.94zm10 10l.94 2.06.94-2.06 2.06-.94-2.06-.94-.94-2.06-.94 2.06-2.06.94z\"/><path d=\"M17.41 7.96l-1.37-1.37c-.4-.4-.92-.59-1.43-.59-.52 0-1.04.2-1.43.59L10.3 9.45l-7.72 7.72c-.78.78-.78 2.05 0 2.83L4 21.41c.39.39.9.59 1.41.59.51 0 1.02-.2 1.41-.59l7.78-7.78 2.81-2.81c.8-.78.8-2.07 0-2.86zM5.41 20L4 18.59l7.72-7.72 1.47 1.35L5.41 20z\"/>\n",
              "  </svg>\n",
              "      </button>\n",
              "      \n",
              "  <style>\n",
              "    .colab-df-container {\n",
              "      display:flex;\n",
              "      flex-wrap:wrap;\n",
              "      gap: 12px;\n",
              "    }\n",
              "\n",
              "    .colab-df-convert {\n",
              "      background-color: #E8F0FE;\n",
              "      border: none;\n",
              "      border-radius: 50%;\n",
              "      cursor: pointer;\n",
              "      display: none;\n",
              "      fill: #1967D2;\n",
              "      height: 32px;\n",
              "      padding: 0 0 0 0;\n",
              "      width: 32px;\n",
              "    }\n",
              "\n",
              "    .colab-df-convert:hover {\n",
              "      background-color: #E2EBFA;\n",
              "      box-shadow: 0px 1px 2px rgba(60, 64, 67, 0.3), 0px 1px 3px 1px rgba(60, 64, 67, 0.15);\n",
              "      fill: #174EA6;\n",
              "    }\n",
              "\n",
              "    [theme=dark] .colab-df-convert {\n",
              "      background-color: #3B4455;\n",
              "      fill: #D2E3FC;\n",
              "    }\n",
              "\n",
              "    [theme=dark] .colab-df-convert:hover {\n",
              "      background-color: #434B5C;\n",
              "      box-shadow: 0px 1px 3px 1px rgba(0, 0, 0, 0.15);\n",
              "      filter: drop-shadow(0px 1px 2px rgba(0, 0, 0, 0.3));\n",
              "      fill: #FFFFFF;\n",
              "    }\n",
              "  </style>\n",
              "\n",
              "      <script>\n",
              "        const buttonEl =\n",
              "          document.querySelector('#df-12c5f1a2-96e5-4086-97b9-96ca0c8ccff1 button.colab-df-convert');\n",
              "        buttonEl.style.display =\n",
              "          google.colab.kernel.accessAllowed ? 'block' : 'none';\n",
              "\n",
              "        async function convertToInteractive(key) {\n",
              "          const element = document.querySelector('#df-12c5f1a2-96e5-4086-97b9-96ca0c8ccff1');\n",
              "          const dataTable =\n",
              "            await google.colab.kernel.invokeFunction('convertToInteractive',\n",
              "                                                     [key], {});\n",
              "          if (!dataTable) return;\n",
              "\n",
              "          const docLinkHtml = 'Like what you see? Visit the ' +\n",
              "            '<a target=\"_blank\" href=https://colab.research.google.com/notebooks/data_table.ipynb>data table notebook</a>'\n",
              "            + ' to learn more about interactive tables.';\n",
              "          element.innerHTML = '';\n",
              "          dataTable['output_type'] = 'display_data';\n",
              "          await google.colab.output.renderOutput(dataTable, element);\n",
              "          const docLink = document.createElement('div');\n",
              "          docLink.innerHTML = docLinkHtml;\n",
              "          element.appendChild(docLink);\n",
              "        }\n",
              "      </script>\n",
              "    </div>\n",
              "  </div>\n",
              "  "
            ]
          },
          "metadata": {},
          "execution_count": 174
        }
      ]
    },
    {
      "cell_type": "markdown",
      "source": [
        "# 6. Windowing and creating labels"
      ],
      "metadata": {
        "id": "piTo-BPJdc-u"
      }
    },
    {
      "cell_type": "markdown",
      "source": [
        "The previous result concerns the whole dataset. However, the input of our CNN model must be in form of labeled GASF matrices.\n",
        "\n",
        "My approach is to devide the dataset into portions of equal length (32 for example), detect the pattern in each using the previous functions, then take each variable and compute its GASF representation.\n",
        "\n",
        "In other words, if we take $T = ((o_0, h_0, l_0, c_0), (o_1, h_1, l_1, c_1), ..., (o_n, h_n, l_n, c_n)) $ as a representation of our dataset, we will form a set of windows $t_{i}$ such that for any $i \\in \\{0, ..., 5004\\}$, $t_i = ((o_i, h_i, l_i, c_i), ..., (o_{i+32}, h_{i+32}, l_{i+32}, c_{i+32})) $, we will apply the previous function to detect the recognized pattern, and we will compute the GASF of each variable: $GASF(o_i, ..., o_{i+32})$, $GASF(h_i, ..., h_{i+32})$, $GASF(l_i, ..., l_{i+32})$, $GASF(c_i, ..., c_{i+32})$."
      ],
      "metadata": {
        "id": "3vWDNIvlb4aT"
      }
    },
    {
      "cell_type": "code",
      "source": [
        "def get_windows(data):\n",
        "  data = data.loc[:, ['Open', 'High', 'Low', 'Close']].to_numpy()\n",
        "  portions = []\n",
        "  for i in range(data.shape[0] - 10):\n",
        "    portions.append(data[i : i + 10])\n",
        "  return np.array(portions)"
      ],
      "metadata": {
        "id": "3us9wj3ilY9X"
      },
      "execution_count": 153,
      "outputs": []
    },
    {
      "cell_type": "markdown",
      "source": [
        "To compute the $GASF$ matrix representation of each variable in each window we will use the `get_gasf` function we defined above.\n",
        "\n"
      ],
      "metadata": {
        "id": "GKm5H40XsbRq"
      }
    },
    {
      "cell_type": "code",
      "source": [
        "portions = get_windows(df)\n",
        "gasf_simples = get_GASF(portions)\n",
        "# this is the first sample :\n",
        "gasf_simples[0].shape"
      ],
      "metadata": {
        "colab": {
          "base_uri": "https://localhost:8080/"
        },
        "id": "kewVir_SpDoz",
        "outputId": "cd647a85-8f63-4eaf-9236-8d286b941973"
      },
      "execution_count": 164,
      "outputs": [
        {
          "output_type": "execute_result",
          "data": {
            "text/plain": [
              "(10, 10, 4)"
            ]
          },
          "metadata": {},
          "execution_count": 164
        }
      ]
    },
    {
      "cell_type": "code",
      "source": [
        "fig, axes = plt.subplots(nrows=1, ncols=4, sharex=True,\n",
        "                                    figsize=(9, 2))\n",
        "for i in range(4):\n",
        "  axes[i].set_title(data.columns[i])\n",
        "  axes[i].imshow(gasf_simples[0][:, :, i], cmap=cm.Greys_r)\n",
        "  axes[i].set_yticklabels([])\n",
        "  axes[i].set_xticklabels([])"
      ],
      "metadata": {
        "colab": {
          "base_uri": "https://localhost:8080/",
          "height": 215
        },
        "id": "cQO9lff2TCf2",
        "outputId": "6c479048-2c53-47f1-bb55-b2f9d0d9d564"
      },
      "execution_count": 156,
      "outputs": [
        {
          "output_type": "display_data",
          "data": {
            "text/plain": [
              "<Figure size 900x200 with 4 Axes>"
            ],
            "image/png": "[encoded data removed]"
          },
          "metadata": {}
        }
      ]
    },
    {
      "cell_type": "markdown",
      "source": [
        "Now it's time to detect the pattern in each simple using the methods we've used so far :\n",
        "\n"
      ],
      "metadata": {
        "id": "ou4-kJEftUXO"
      }
    },
    {
      "cell_type": "code",
      "source": [
        "def detect_pattern(portion):\n",
        "  \n",
        "  df = pd.DataFrame({'Open' : portion[:, 0],\n",
        "                     'High' : portion[:, 1],\n",
        "                     'Low' : portion[:, 2],\n",
        "                     'Close' : portion[:, 3],})\n",
        "  \n",
        "  df = process_data(df, slope=True)\n",
        "  df = process_data(df, slope=False)\n",
        "\n",
        "  df = detect_evening_star(df)\n",
        "  df = detect_morning_star(df)\n",
        "  df = detect_shooting_star(df)\n",
        "  df = detect_hanging_man(df)\n",
        "  df = detect_bullish_engulfing(df)\n",
        "  df = detect_bearish_engulfing(df)\n",
        "  df = detect_hammer(df)\n",
        "  df = detect_inverted_hammer(df)\n",
        "  df = detect_bullish_harami(df)\n",
        "  df = detect_bearish_harami(df)\n",
        "\n",
        "  result = [np.sum(df['evening']),\n",
        "            np.sum(df['morning']),\n",
        "            np.sum(df['shooting_star']),\n",
        "            np.sum(df['hanging_man']),\n",
        "            np.sum(df['bullish_engulfing']),\n",
        "            np.sum(df['bearish_engulfing']),\n",
        "            np.sum(df['hammer']),\n",
        "            np.sum(df['inverted_hammer']),\n",
        "            np.sum(df['bullish_harami']),\n",
        "            np.sum(df['bearish_harami'])]\n",
        "\n",
        "  return np.array(result)"
      ],
      "metadata": {
        "id": "OuErL77ap7-g"
      },
      "execution_count": 157,
      "outputs": []
    },
    {
      "cell_type": "markdown",
      "source": [
        "Now let's prepare our data for the CNN model :"
      ],
      "metadata": {
        "id": "OtAAW0s9DRx8"
      }
    },
    {
      "cell_type": "code",
      "source": [
        "def prepare_data(data):\n",
        "  portions = get_windows(data)\n",
        "  gsf_simples = get_GASF(portions)\n",
        "  labels = []\n",
        "  for p in portions:\n",
        "    labels.append(np.argmax(detect_pattern(p)))\n",
        "  return gsf_simples, np.array(labels)"
      ],
      "metadata": {
        "id": "gmK_YDgou_pn"
      },
      "execution_count": 158,
      "outputs": []
    },
    {
      "cell_type": "markdown",
      "source": [
        "It can take about an hour to prepare the data, but fortunately I have already prepared it and divided it into two parts, one for training and one for testing.\n",
        "Let's try it in a small part of the data to demonstrate:"
      ],
      "metadata": {
        "id": "YoPRh02GF89a"
      }
    },
    {
      "cell_type": "code",
      "source": [
        "X, y = prepare_data(data[:12])"
      ],
      "metadata": {
        "colab": {
          "base_uri": "https://localhost:8080/"
        },
        "id": "0ivKq3xkFj68",
        "outputId": "206ea957-bbc7-4c8f-ba4d-ce4772beaafa"
      },
      "execution_count": 159,
      "outputs": [
        {
          "output_type": "stream",
          "name": "stderr",
          "text": [
            "100%|██████████| 10/10 [00:00<00:00, 491.86it/s]\n"
          ]
        },
        {
          "output_type": "stream",
          "name": "stdout",
          "text": [
            "[ Info ] : detecting evening star\n"
          ]
        },
        {
          "output_type": "stream",
          "name": "stderr",
          "text": [
            "0it [00:00, ?it/s]\n"
          ]
        },
        {
          "output_type": "stream",
          "name": "stdout",
          "text": [
            "[ Info ] : detecting morning star\n"
          ]
        },
        {
          "output_type": "stream",
          "name": "stderr",
          "text": [
            "  0%|          | 0/2 [00:00<?, ?it/s]\n"
          ]
        },
        {
          "output_type": "stream",
          "name": "stdout",
          "text": [
            "[ Info ] : detecting shooting star\n"
          ]
        },
        {
          "output_type": "stream",
          "name": "stderr",
          "text": [
            "0it [00:00, ?it/s]\n"
          ]
        },
        {
          "output_type": "stream",
          "name": "stdout",
          "text": [
            "[ Info ] : detecting hanging man\n"
          ]
        },
        {
          "output_type": "stream",
          "name": "stderr",
          "text": [
            "0it [00:00, ?it/s]\n"
          ]
        },
        {
          "output_type": "stream",
          "name": "stdout",
          "text": [
            "[ Info ] : detecting bullish engulfing\n"
          ]
        },
        {
          "output_type": "stream",
          "name": "stderr",
          "text": [
            " 50%|█████     | 1/2 [00:00<00:00, 1595.40it/s]\n"
          ]
        },
        {
          "output_type": "stream",
          "name": "stdout",
          "text": [
            "[ Info ] : detecting bearish engulfing\n"
          ]
        },
        {
          "output_type": "stream",
          "name": "stderr",
          "text": [
            "0it [00:00, ?it/s]\n"
          ]
        },
        {
          "output_type": "stream",
          "name": "stdout",
          "text": [
            "[ Info ] : detecting hammer\n"
          ]
        },
        {
          "output_type": "stream",
          "name": "stderr",
          "text": [
            "100%|██████████| 2/2 [00:00<00:00, 1802.45it/s]\n"
          ]
        },
        {
          "output_type": "stream",
          "name": "stdout",
          "text": [
            "[ Info ] : detecting inverted hammer\n"
          ]
        },
        {
          "output_type": "stream",
          "name": "stderr",
          "text": [
            " 50%|█████     | 1/2 [00:00<00:00, 970.01it/s]\n"
          ]
        },
        {
          "output_type": "stream",
          "name": "stdout",
          "text": [
            "[ Info ] : detecting bullish harami\n"
          ]
        },
        {
          "output_type": "stream",
          "name": "stderr",
          "text": [
            " 50%|█████     | 1/2 [00:00<00:00, 1164.76it/s]\n"
          ]
        },
        {
          "output_type": "stream",
          "name": "stdout",
          "text": [
            "[ Info ] : detecting bearish harami\n"
          ]
        },
        {
          "output_type": "stream",
          "name": "stderr",
          "text": [
            "0it [00:00, ?it/s]\n",
            "100%|██████████| 10/10 [00:00<00:00, 148.38it/s]\n"
          ]
        },
        {
          "output_type": "stream",
          "name": "stdout",
          "text": [
            "[ Info ] : detecting evening star\n"
          ]
        },
        {
          "output_type": "stream",
          "name": "stderr",
          "text": [
            "0it [00:00, ?it/s]\n"
          ]
        },
        {
          "output_type": "stream",
          "name": "stdout",
          "text": [
            "[ Info ] : detecting morning star\n"
          ]
        },
        {
          "output_type": "stream",
          "name": "stderr",
          "text": [
            " 33%|███▎      | 1/3 [00:00<00:00, 667.99it/s]\n"
          ]
        },
        {
          "output_type": "stream",
          "name": "stdout",
          "text": [
            "[ Info ] : detecting shooting star\n"
          ]
        },
        {
          "output_type": "stream",
          "name": "stderr",
          "text": [
            "0it [00:00, ?it/s]\n"
          ]
        },
        {
          "output_type": "stream",
          "name": "stdout",
          "text": [
            "[ Info ] : detecting hanging man\n"
          ]
        },
        {
          "output_type": "stream",
          "name": "stderr",
          "text": [
            "0it [00:00, ?it/s]\n"
          ]
        },
        {
          "output_type": "stream",
          "name": "stdout",
          "text": [
            "[ Info ] : detecting bullish engulfing\n"
          ]
        },
        {
          "output_type": "stream",
          "name": "stderr",
          "text": [
            " 67%|██████▋   | 2/3 [00:00<00:00, 2251.37it/s]\n"
          ]
        },
        {
          "output_type": "stream",
          "name": "stdout",
          "text": [
            "[ Info ] : detecting bearish engulfing\n"
          ]
        },
        {
          "output_type": "stream",
          "name": "stderr",
          "text": [
            "0it [00:00, ?it/s]\n"
          ]
        },
        {
          "output_type": "stream",
          "name": "stdout",
          "text": [
            "[ Info ] : detecting hammer\n"
          ]
        },
        {
          "output_type": "stream",
          "name": "stderr",
          "text": [
            "100%|██████████| 3/3 [00:00<00:00, 3752.73it/s]\n"
          ]
        },
        {
          "output_type": "stream",
          "name": "stdout",
          "text": [
            "[ Info ] : detecting inverted hammer\n"
          ]
        },
        {
          "output_type": "stream",
          "name": "stderr",
          "text": [
            " 67%|██████▋   | 2/3 [00:00<00:00, 985.16it/s]\n"
          ]
        },
        {
          "output_type": "stream",
          "name": "stdout",
          "text": [
            "[ Info ] : detecting bullish harami\n"
          ]
        },
        {
          "output_type": "stream",
          "name": "stderr",
          "text": [
            " 67%|██████▋   | 2/3 [00:00<00:00, 1792.05it/s]\n"
          ]
        },
        {
          "output_type": "stream",
          "name": "stdout",
          "text": [
            "[ Info ] : detecting bearish harami\n"
          ]
        },
        {
          "output_type": "stream",
          "name": "stderr",
          "text": [
            "0it [00:00, ?it/s]\n"
          ]
        }
      ]
    },
    {
      "cell_type": "code",
      "source": [],
      "metadata": {
        "id": "VsM8XNPkS-OY"
      },
      "execution_count": null,
      "outputs": []
    },
    {
      "cell_type": "markdown",
      "source": [
        "# 7. The GAF-CNN model"
      ],
      "metadata": {
        "id": "ZLr6QzAVwxUd"
      }
    },
    {
      "cell_type": "markdown",
      "source": [
        "## 7.1. Description"
      ],
      "metadata": {
        "id": "Fu8AV5LS1pbo"
      }
    },
    {
      "cell_type": "markdown",
      "source": [
        "The authors of the paper expect that a GAF-CNN model can the computer to look at the candlestick patterns with as much nuance as a human trader unlike a traditional application of CNN."
      ],
      "metadata": {
        "id": "dh3Flhj8oxlO"
      }
    },
    {
      "cell_type": "code",
      "source": [
        "from sklearn.metrics import confusion_matrix\n",
        "import numpy as np\n",
        "from keras import backend as K\n",
        "from keras import optimizers\n",
        "from keras.utils import np_utils\n",
        "from keras.models import Sequential\n",
        "from keras.layers import Dense, Flatten, Conv2D, Activation"
      ],
      "metadata": {
        "id": "J8aaty4Fs3sk"
      },
      "execution_count": 224,
      "outputs": []
    },
    {
      "cell_type": "markdown",
      "source": [
        "In the paper, the time series data based on opening, high, low, and closing prices (OHLC) in encoded to GASF matrices with the window size set to 10, so the shape of the data matrices will be (10, 10, 4). In this step, we will train this 3D matrices data with the CNN model described in the paper :\n",
        "\n",
        "<center>\n",
        "\n",
        "| Parameters | Values |\n",
        "| --- | ----------- |\n",
        "|epochs | 300 |\n",
        "|batch size | 64 |\n",
        "|optimizer | Adam |\n",
        "|learning rate | 0.001 |\n",
        "|beta 1 | 0.9 |\n",
        "|beta 2 | 0.999 |\n",
        "|early stopping | 20 epochs |"
      ],
      "metadata": {
        "id": "9PIAeU00ohRE"
      }
    },
    {
      "cell_type": "markdown",
      "source": [
        "I am implemeting here a model similar to the one they have used in their github repository but with slight modifications."
      ],
      "metadata": {
        "id": "DkYgdYVlx5om"
      }
    },
    {
      "cell_type": "code",
      "source": [
        "model = Sequential()\n",
        "\n",
        "model.add(Conv2D(16, (2, 2), input_shape=(10, 10, 4), padding='same', strides=(1, 1)))\n",
        "model.add(Activation('sigmoid'))\n",
        "\n",
        "model.add(Conv2D(16, (2, 2), padding='same', strides=(1, 1)))\n",
        "model.add(Activation('sigmoid'))\n",
        "\n",
        "model.add(Flatten())\n",
        "model.add(Dense(128, activation='relu'))\n",
        "\n",
        "model.add(Dense(9)) # The 9 patterns we are about to detect\n",
        "model.add(Activation('softmax'))\n",
        "model.summary()"
      ],
      "metadata": {
        "id": "JKkXHl3tw3LR",
        "colab": {
          "base_uri": "https://localhost:8080/"
        },
        "outputId": "a2e7270b-0c6c-4dd7-c418-0ba1e9fdaa16"
      },
      "execution_count": 230,
      "outputs": [
        {
          "output_type": "stream",
          "name": "stdout",
          "text": [
            "Model: \"sequential_3\"\n",
            "_________________________________________________________________\n",
            " Layer (type)                Output Shape              Param #   \n",
            "=================================================================\n",
            " conv2d_6 (Conv2D)           (None, 10, 10, 16)        272       \n",
            "                                                                 \n",
            " activation_9 (Activation)   (None, 10, 10, 16)        0         \n",
            "                                                                 \n",
            " conv2d_7 (Conv2D)           (None, 10, 10, 16)        1040      \n",
            "                                                                 \n",
            " activation_10 (Activation)  (None, 10, 10, 16)        0         \n",
            "                                                                 \n",
            " flatten_3 (Flatten)         (None, 1600)              0         \n",
            "                                                                 \n",
            " dense_6 (Dense)             (None, 128)               204928    \n",
            "                                                                 \n",
            " dense_7 (Dense)             (None, 9)                 1161      \n",
            "                                                                 \n",
            " activation_11 (Activation)  (None, 9)                 0         \n",
            "                                                                 \n",
            "=================================================================\n",
            "Total params: 207,401\n",
            "Trainable params: 207,401\n",
            "Non-trainable params: 0\n",
            "_________________________________________________________________\n"
          ]
        }
      ]
    },
    {
      "cell_type": "markdown",
      "source": [
        "## 3.4. Training the model :"
      ],
      "metadata": {
        "id": "vFsa6Fznz_OS"
      }
    },
    {
      "cell_type": "markdown",
      "source": [
        "Because the given dataset is a bit tiny, and processing new data may take long, I will train the model on their data first, then use the Apple dataset for the test."
      ],
      "metadata": {
        "id": "0Kvj1vH80Zsz"
      }
    },
    {
      "cell_type": "code",
      "source": [
        "with open('/content/label8_eurusd_10bar_1500_500_val200_gaf_culr.pkl', 'rb') as f:\n",
        "  datna  = pickle.load(f)"
      ],
      "metadata": {
        "id": "uhy0_F_37QHg"
      },
      "execution_count": 273,
      "outputs": []
    },
    {
      "cell_type": "code",
      "source": [
        "datna.keys()"
      ],
      "metadata": {
        "colab": {
          "base_uri": "https://localhost:8080/"
        },
        "id": "rhLTRwbQ7Wkv",
        "outputId": "238140bb-e760-424d-bc93-f6f02c2c79df"
      },
      "execution_count": 274,
      "outputs": [
        {
          "output_type": "execute_result",
          "data": {
            "text/plain": [
              "dict_keys(['test_gaf', 'test_label_arr', 'val_label', 'test_data', 'train_label', 'train_gaf', 'train_data', 'test_label', 'val_gaf', 'train_label_arr', 'val_data', 'val_label_arr'])"
            ]
          },
          "metadata": {},
          "execution_count": 274
        }
      ]
    },
    {
      "cell_type": "code",
      "source": [
        "datna[\"test_label_arr\"].shape"
      ],
      "metadata": {
        "colab": {
          "base_uri": "https://localhost:8080/"
        },
        "id": "MpwpqfAq7b71",
        "outputId": "a8423068-1e91-4fe8-d794-0140040216e0"
      },
      "execution_count": 284,
      "outputs": [
        {
          "output_type": "execute_result",
          "data": {
            "text/plain": [
              "(5000, 9)"
            ]
          },
          "metadata": {},
          "execution_count": 284
        }
      ]
    },
    {
      "cell_type": "code",
      "source": [
        "len(df)"
      ],
      "metadata": {
        "colab": {
          "base_uri": "https://localhost:8080/"
        },
        "id": "wPnhTOHL8fSX",
        "outputId": "cee54c35-df59-44c9-e81b-255cea234631"
      },
      "execution_count": 285,
      "outputs": [
        {
          "output_type": "execute_result",
          "data": {
            "text/plain": [
              "5034"
            ]
          },
          "metadata": {},
          "execution_count": 285
        }
      ]
    },
    {
      "cell_type": "code",
      "source": [
        "with open(get_from_drive('1l718h4--lUWQwLecWJdvZT6Aq_-3_uz9', 'data.pkl'), 'rb') as f:\n",
        "  data  = pickle.load(f)\n",
        "X_train = data['X_train'][5]\n",
        "y_train = data['y_train']\n",
        "X_val = data['X_val']\n",
        "y_val = data['y_val']\n",
        "X_test_Apple = data['X_test_Apple']\n",
        "y_test_Apple = data['y_test_Apple']"
      ],
      "metadata": {
        "id": "alRDPHBLxr2F"
      },
      "execution_count": 259,
      "outputs": []
    },
    {
      "cell_type": "code",
      "source": [
        "y_test_Apple = datna[\"test_label_arr\"]"
      ],
      "metadata": {
        "id": "4pHZXNTH8gI6"
      },
      "execution_count": 286,
      "outputs": []
    },
    {
      "cell_type": "code",
      "source": [
        "y_test_Apple"
      ],
      "metadata": {
        "colab": {
          "base_uri": "https://localhost:8080/"
        },
        "id": "DFsAIrfI7vfI",
        "outputId": "3f631b4c-33e6-41ec-8ee4-f796cabfdbf3"
      },
      "execution_count": 287,
      "outputs": [
        {
          "output_type": "execute_result",
          "data": {
            "text/plain": [
              "array([[0., 1., 0., ..., 0., 0., 0.],\n",
              "       [0., 1., 0., ..., 0., 0., 0.],\n",
              "       [0., 1., 0., ..., 0., 0., 0.],\n",
              "       ...,\n",
              "       [1., 0., 0., ..., 0., 0., 0.],\n",
              "       [1., 0., 0., ..., 0., 0., 0.],\n",
              "       [1., 0., 0., ..., 0., 0., 0.]], dtype=float32)"
            ]
          },
          "metadata": {},
          "execution_count": 287
        }
      ]
    },
    {
      "cell_type": "code",
      "source": [
        "model.compile(loss='categorical_crossentropy', optimizer = optimizers.SGD(lr=0.01), metrics=['accuracy'])\n",
        "hist = model.fit(x=X_train, y=y_train,\n",
        "                 validation_data=(X_val, y_val),\n",
        "                 batch_size=64, epochs=50, verbose=2)"
      ],
      "metadata": {
        "id": "Qm0ri3uhw6i6",
        "colab": {
          "base_uri": "https://localhost:8080/"
        },
        "outputId": "56a29360-4823-431d-f938-506fd938bd7a"
      },
      "execution_count": 261,
      "outputs": [
        {
          "output_type": "stream",
          "name": "stdout",
          "text": [
            "Epoch 1/50\n"
          ]
        },
        {
          "output_type": "stream",
          "name": "stderr",
          "text": [
            "/usr/local/lib/python3.8/dist-packages/keras/optimizers/optimizer_v2/gradient_descent.py:108: UserWarning: The `lr` argument is deprecated, use `learning_rate` instead.\n",
            "  super(SGD, self).__init__(name, **kwargs)\n"
          ]
        },
        {
          "output_type": "stream",
          "name": "stdout",
          "text": [
            "235/235 - 4s - loss: 1.5851 - accuracy: 0.4052 - val_loss: 1.3384 - val_accuracy: 0.4475 - 4s/epoch - 15ms/step\n",
            "Epoch 2/50\n",
            "235/235 - 2s - loss: 1.2337 - accuracy: 0.5455 - val_loss: 1.0991 - val_accuracy: 0.6470 - 2s/epoch - 10ms/step\n",
            "Epoch 3/50\n",
            "235/235 - 2s - loss: 1.0654 - accuracy: 0.6268 - val_loss: 1.0497 - val_accuracy: 0.6380 - 2s/epoch - 10ms/step\n",
            "Epoch 4/50\n",
            "235/235 - 2s - loss: 0.9542 - accuracy: 0.6669 - val_loss: 0.8990 - val_accuracy: 0.6710 - 2s/epoch - 10ms/step\n",
            "Epoch 5/50\n",
            "235/235 - 2s - loss: 0.8788 - accuracy: 0.6886 - val_loss: 0.8349 - val_accuracy: 0.6805 - 2s/epoch - 10ms/step\n",
            "Epoch 6/50\n",
            "235/235 - 2s - loss: 0.8250 - accuracy: 0.7092 - val_loss: 0.7795 - val_accuracy: 0.7100 - 2s/epoch - 10ms/step\n",
            "Epoch 7/50\n",
            "235/235 - 2s - loss: 0.7848 - accuracy: 0.7222 - val_loss: 0.7164 - val_accuracy: 0.7555 - 2s/epoch - 10ms/step\n",
            "Epoch 8/50\n",
            "235/235 - 2s - loss: 0.7556 - accuracy: 0.7337 - val_loss: 0.7001 - val_accuracy: 0.7445 - 2s/epoch - 10ms/step\n",
            "Epoch 9/50\n",
            "235/235 - 2s - loss: 0.7300 - accuracy: 0.7410 - val_loss: 0.7042 - val_accuracy: 0.7480 - 2s/epoch - 10ms/step\n",
            "Epoch 10/50\n",
            "235/235 - 2s - loss: 0.7070 - accuracy: 0.7515 - val_loss: 0.6577 - val_accuracy: 0.7745 - 2s/epoch - 10ms/step\n",
            "Epoch 11/50\n",
            "235/235 - 2s - loss: 0.6872 - accuracy: 0.7585 - val_loss: 0.6462 - val_accuracy: 0.7635 - 2s/epoch - 10ms/step\n",
            "Epoch 12/50\n",
            "235/235 - 3s - loss: 0.6688 - accuracy: 0.7666 - val_loss: 0.6115 - val_accuracy: 0.7830 - 3s/epoch - 12ms/step\n",
            "Epoch 13/50\n",
            "235/235 - 2s - loss: 0.6507 - accuracy: 0.7717 - val_loss: 0.6243 - val_accuracy: 0.7745 - 2s/epoch - 10ms/step\n",
            "Epoch 14/50\n",
            "235/235 - 2s - loss: 0.6359 - accuracy: 0.7793 - val_loss: 0.5946 - val_accuracy: 0.7845 - 2s/epoch - 10ms/step\n",
            "Epoch 15/50\n",
            "235/235 - 2s - loss: 0.6223 - accuracy: 0.7823 - val_loss: 0.5730 - val_accuracy: 0.7950 - 2s/epoch - 10ms/step\n",
            "Epoch 16/50\n",
            "235/235 - 3s - loss: 0.6097 - accuracy: 0.7873 - val_loss: 0.5576 - val_accuracy: 0.8135 - 3s/epoch - 11ms/step\n",
            "Epoch 17/50\n",
            "235/235 - 3s - loss: 0.5988 - accuracy: 0.7885 - val_loss: 0.5398 - val_accuracy: 0.8145 - 3s/epoch - 13ms/step\n",
            "Epoch 18/50\n",
            "235/235 - 4s - loss: 0.5882 - accuracy: 0.7912 - val_loss: 0.5500 - val_accuracy: 0.7935 - 4s/epoch - 16ms/step\n",
            "Epoch 19/50\n",
            "235/235 - 4s - loss: 0.5795 - accuracy: 0.7941 - val_loss: 0.5307 - val_accuracy: 0.8120 - 4s/epoch - 15ms/step\n",
            "Epoch 20/50\n",
            "235/235 - 4s - loss: 0.5699 - accuracy: 0.7979 - val_loss: 0.5210 - val_accuracy: 0.8225 - 4s/epoch - 16ms/step\n",
            "Epoch 21/50\n",
            "235/235 - 3s - loss: 0.5633 - accuracy: 0.7991 - val_loss: 0.5079 - val_accuracy: 0.8260 - 3s/epoch - 12ms/step\n",
            "Epoch 22/50\n",
            "235/235 - 3s - loss: 0.5549 - accuracy: 0.8035 - val_loss: 0.5039 - val_accuracy: 0.8250 - 3s/epoch - 13ms/step\n",
            "Epoch 23/50\n",
            "235/235 - 2s - loss: 0.5487 - accuracy: 0.8071 - val_loss: 0.4992 - val_accuracy: 0.8270 - 2s/epoch - 10ms/step\n",
            "Epoch 24/50\n",
            "235/235 - 2s - loss: 0.5398 - accuracy: 0.8107 - val_loss: 0.5133 - val_accuracy: 0.8175 - 2s/epoch - 10ms/step\n",
            "Epoch 25/50\n",
            "235/235 - 2s - loss: 0.5322 - accuracy: 0.8091 - val_loss: 0.4965 - val_accuracy: 0.8295 - 2s/epoch - 10ms/step\n",
            "Epoch 26/50\n",
            "235/235 - 3s - loss: 0.5258 - accuracy: 0.8126 - val_loss: 0.4635 - val_accuracy: 0.8420 - 3s/epoch - 14ms/step\n",
            "Epoch 27/50\n",
            "235/235 - 2s - loss: 0.5200 - accuracy: 0.8137 - val_loss: 0.4971 - val_accuracy: 0.8215 - 2s/epoch - 10ms/step\n",
            "Epoch 28/50\n",
            "235/235 - 2s - loss: 0.5136 - accuracy: 0.8153 - val_loss: 0.4540 - val_accuracy: 0.8495 - 2s/epoch - 10ms/step\n",
            "Epoch 29/50\n",
            "235/235 - 2s - loss: 0.5068 - accuracy: 0.8180 - val_loss: 0.4576 - val_accuracy: 0.8400 - 2s/epoch - 10ms/step\n",
            "Epoch 30/50\n",
            "235/235 - 3s - loss: 0.5007 - accuracy: 0.8189 - val_loss: 0.5241 - val_accuracy: 0.8020 - 3s/epoch - 12ms/step\n",
            "Epoch 31/50\n",
            "235/235 - 4s - loss: 0.4954 - accuracy: 0.8246 - val_loss: 0.4587 - val_accuracy: 0.8520 - 4s/epoch - 18ms/step\n",
            "Epoch 32/50\n",
            "235/235 - 3s - loss: 0.4898 - accuracy: 0.8235 - val_loss: 0.4512 - val_accuracy: 0.8395 - 3s/epoch - 12ms/step\n",
            "Epoch 33/50\n",
            "235/235 - 3s - loss: 0.4823 - accuracy: 0.8260 - val_loss: 0.4289 - val_accuracy: 0.8495 - 3s/epoch - 12ms/step\n",
            "Epoch 34/50\n",
            "235/235 - 3s - loss: 0.4780 - accuracy: 0.8292 - val_loss: 0.4389 - val_accuracy: 0.8435 - 3s/epoch - 11ms/step\n",
            "Epoch 35/50\n",
            "235/235 - 2s - loss: 0.4741 - accuracy: 0.8309 - val_loss: 0.4906 - val_accuracy: 0.8280 - 2s/epoch - 10ms/step\n",
            "Epoch 36/50\n",
            "235/235 - 2s - loss: 0.4693 - accuracy: 0.8320 - val_loss: 0.4840 - val_accuracy: 0.8230 - 2s/epoch - 10ms/step\n",
            "Epoch 37/50\n",
            "235/235 - 2s - loss: 0.4663 - accuracy: 0.8344 - val_loss: 0.4241 - val_accuracy: 0.8530 - 2s/epoch - 10ms/step\n",
            "Epoch 38/50\n",
            "235/235 - 2s - loss: 0.4619 - accuracy: 0.8371 - val_loss: 0.4090 - val_accuracy: 0.8615 - 2s/epoch - 10ms/step\n",
            "Epoch 39/50\n",
            "235/235 - 2s - loss: 0.4579 - accuracy: 0.8361 - val_loss: 0.4035 - val_accuracy: 0.8655 - 2s/epoch - 10ms/step\n",
            "Epoch 40/50\n",
            "235/235 - 2s - loss: 0.4535 - accuracy: 0.8386 - val_loss: 0.4766 - val_accuracy: 0.8360 - 2s/epoch - 10ms/step\n",
            "Epoch 41/50\n",
            "235/235 - 2s - loss: 0.4510 - accuracy: 0.8408 - val_loss: 0.4306 - val_accuracy: 0.8560 - 2s/epoch - 10ms/step\n",
            "Epoch 42/50\n",
            "235/235 - 2s - loss: 0.4481 - accuracy: 0.8405 - val_loss: 0.3882 - val_accuracy: 0.8760 - 2s/epoch - 10ms/step\n",
            "Epoch 43/50\n",
            "235/235 - 2s - loss: 0.4415 - accuracy: 0.8425 - val_loss: 0.4144 - val_accuracy: 0.8535 - 2s/epoch - 10ms/step\n",
            "Epoch 44/50\n",
            "235/235 - 2s - loss: 0.4404 - accuracy: 0.8413 - val_loss: 0.4270 - val_accuracy: 0.8545 - 2s/epoch - 10ms/step\n",
            "Epoch 45/50\n",
            "235/235 - 4s - loss: 0.4366 - accuracy: 0.8448 - val_loss: 0.3934 - val_accuracy: 0.8690 - 4s/epoch - 15ms/step\n",
            "Epoch 46/50\n",
            "235/235 - 4s - loss: 0.4343 - accuracy: 0.8432 - val_loss: 0.3871 - val_accuracy: 0.8685 - 4s/epoch - 15ms/step\n",
            "Epoch 47/50\n",
            "235/235 - 2s - loss: 0.4329 - accuracy: 0.8431 - val_loss: 0.3793 - val_accuracy: 0.8745 - 2s/epoch - 10ms/step\n",
            "Epoch 48/50\n",
            "235/235 - 2s - loss: 0.4278 - accuracy: 0.8458 - val_loss: 0.4000 - val_accuracy: 0.8615 - 2s/epoch - 10ms/step\n",
            "Epoch 49/50\n",
            "235/235 - 2s - loss: 0.4254 - accuracy: 0.8479 - val_loss: 0.3841 - val_accuracy: 0.8750 - 2s/epoch - 11ms/step\n",
            "Epoch 50/50\n",
            "235/235 - 4s - loss: 0.4239 - accuracy: 0.8475 - val_loss: 0.3973 - val_accuracy: 0.8655 - 4s/epoch - 19ms/step\n"
          ]
        }
      ]
    },
    {
      "cell_type": "code",
      "source": [
        "def print_result(data, model):\n",
        "    # get train & test pred-labels\n",
        "    train_pred = model.predict(X_train).argmax(axis = 1)\n",
        "    test_pred = model.predict(X_test_Apple).argmax(axis = 1)\n",
        "    # get train & test true-labels\n",
        "    train_label = y_train[:, 0]\n",
        "    test_label = y_test_Apple[:, 0]\n",
        "    # train & test confusion matrix\n",
        "    train_result_cm = confusion_matrix(train_label, train_pred, labels=range(9))\n",
        "    test_result_cm = confusion_matrix(test_label, test_pred, labels=range(9))\n",
        "\n",
        "    print(train_result_cm, '\\n', test_result_cm)"
      ],
      "metadata": {
        "id": "2hJtY-lSw-Xj"
      },
      "execution_count": 263,
      "outputs": []
    },
    {
      "cell_type": "code",
      "source": [
        "PARAMS = {}\n",
        "PARAMS['pkl_name'] = '/content/label8_eurusd_10bar_1500_500_val200_gaf_culr.pkl'\n",
        "PARAMS['model_name'] = './model/cnn_model_10bar.h5'\n",
        "PARAMS['classes'] = 9\n",
        "PARAMS['lr'] = 0.01\n",
        "PARAMS['epochs'] = 50\n",
        "PARAMS['batch_size'] = 64\n",
        "PARAMS['optimizer'] = optimizers.SGD(lr=0.01)"
      ],
      "metadata": {
        "colab": {
          "base_uri": "https://localhost:8080/"
        },
        "id": "o4qWjZCEf9MQ",
        "outputId": "c5627227-6695-488d-bf79-f889910ca229"
      },
      "execution_count": 264,
      "outputs": [
        {
          "output_type": "stream",
          "name": "stderr",
          "text": [
            "/usr/local/lib/python3.8/dist-packages/keras/optimizers/optimizer_v2/gradient_descent.py:108: UserWarning: The `lr` argument is deprecated, use `learning_rate` instead.\n",
            "  super(SGD, self).__init__(name, **kwargs)\n"
          ]
        }
      ]
    },
    {
      "cell_type": "code",
      "source": [
        "plt.figure(figsize=(8, 4))\n",
        "ax = plt.subplot(1, 2, 1)\n",
        "plt.plot(hist.history['loss'])\n",
        "plt.title(\"Train loss\")\n",
        "ax = plt.subplot(1, 2, 2)\n",
        "plt.plot(hist.history['accuracy'])\n",
        "plt.title(\"Accuracy\")"
      ],
      "metadata": {
        "id": "wNCuf796a2a0",
        "colab": {
          "base_uri": "https://localhost:8080/",
          "height": 408
        },
        "outputId": "941a789a-dd45-4393-c53a-be46321d77a0"
      },
      "execution_count": 296,
      "outputs": [
        {
          "output_type": "execute_result",
          "data": {
            "text/plain": [
              "Text(0.5, 1.0, 'Accuracy')"
            ]
          },
          "metadata": {},
          "execution_count": 296
        },
        {
          "output_type": "display_data",
          "data": {
            "text/plain": [
              "<Figure size 800x400 with 2 Axes>"
            ],
            "image/png": "[encoded data removed]"
          },
          "metadata": {}
        }
      ]
    },
    {
      "cell_type": "code",
      "source": [
        "print(\"Mean Absolute Error:\", mean_absolute_error(reduction_y_test, reduction_Lstm_pred))\n",
        "print('Mean Squared Error:', mean_squared_error(reduction_y_test, reduction_Lstm_pred))\n",
        "print('Root Mean Squared Error:', sqrt(mean_squared_error(reduction_y_test, reduction_Lstm_pred)))\n",
        "print(\"Coefficient of Determination:\", r2_score(reduction_y_test, reduction_Lstm_pred))"
      ],
      "metadata": {
        "id": "ab8PhHOe969t"
      },
      "execution_count": 300,
      "outputs": []
    },
    {
      "cell_type": "code",
      "source": [
        "xx.shape"
      ],
      "metadata": {
        "colab": {
          "base_uri": "https://localhost:8080/"
        },
        "id": "rbISGflh-ePp",
        "outputId": "272cebaf-f049-4a1d-c26e-4c90bea1c0f7"
      },
      "execution_count": 301,
      "outputs": [
        {
          "output_type": "execute_result",
          "data": {
            "text/plain": [
              "(5017, 10, 10, 4)"
            ]
          },
          "metadata": {},
          "execution_count": 301
        }
      ]
    }
  ]
}